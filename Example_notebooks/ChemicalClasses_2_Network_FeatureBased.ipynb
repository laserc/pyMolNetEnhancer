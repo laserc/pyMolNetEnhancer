{
 "cells": [
  {
   "cell_type": "markdown",
   "metadata": {},
   "source": [
    "Download GNPS data <br>\n",
    "Replace Job ID below with your GNPS job ID:"
   ]
  },
  {
   "cell_type": "code",
   "execution_count": 1,
   "metadata": {},
   "outputs": [
    {
     "name": "stderr",
     "output_type": "stream",
     "text": [
      "  % Total    % Received % Xferd  Average Speed   Time    Time     Time  Current\n",
      "                                 Dload  Upload   Total   Spent    Left  Speed\n",
      "\n",
      "  0     0    0     0    0     0      0      0 --:--:-- --:--:-- --:--:--     0\n",
      "100 2237k    0 2237k    0     0  2237k      0 --:--:-- --:--:-- --:--:-- 4336k\n",
      "100 3607k    0 3607k    0     0  3607k      0 --:--:-- --:--:-- --:--:-- 4442k\n"
     ]
    }
   ],
   "source": [
    "! curl -d \"\" \"https://gnps.ucsd.edu/ProteoSAFe/DownloadResult?task=b817262cb6114e7295fee4f73b22a3ad&view=download_cytoscape_data\" -o GNPS_output_graphML_FeatureBased.zip\n",
    "\n",
    "from zipfile import ZipFile\n",
    "zf = ZipFile(\"GNPS_output_graphML_FeatureBased.zip\", 'r')\n",
    "zf.extractall(\"GNPS_output_graphML_FeatureBased\")\n",
    "zf.close()"
   ]
  },
  {
   "cell_type": "markdown",
   "metadata": {},
   "source": [
    "specify your NAP job ID:"
   ]
  },
  {
   "cell_type": "code",
   "execution_count": 1,
   "metadata": {},
   "outputs": [],
   "source": [
    "nap_id = 'c4bb6b8be9e14bdebe87c6ef3abe11f6'"
   ]
  },
  {
   "cell_type": "markdown",
   "metadata": {},
   "source": [
    "load libraries"
   ]
  },
  {
   "cell_type": "code",
   "execution_count": 2,
   "metadata": {},
   "outputs": [],
   "source": [
    "from pyMolNetEnhancer import *\n",
    "import pandas as pd\n",
    "import os\n",
    "import csv \n",
    "import json\n",
    "from networkx import *\n",
    "from pathlib import Path  #path to MarvinSuite's molconvert used to convert SMILES to InchiKeys\n",
    "pathMolCov = Path('C:/Program Files/ChemAxon/MarvinSuite/bin')\n",
    "pathJAVA = Path('C:/Program Files/Java/jre1.8.0_211')\n",
    "os.environ['PATH'] = str(pathMolCov)\n",
    "os.environ['JAVA_HOME'] = str(pathJAVA)"
   ]
  },
  {
   "cell_type": "code",
   "execution_count": 3,
   "metadata": {},
   "outputs": [],
   "source": [
    "if 'clusterinfo_summary' in os.listdir('GNPS_output_graphML_FeatureBased/') and 'DB_result' in os.listdir('GNPS_output_graphML_FeatureBased/'):\n",
    "    netfile = 'GNPS_output_graphML_FeatureBased/clusterinfo_summary/' + str(os.listdir('GNPS_output_graphML_FeatureBased/clusterinfo_summary/')[0]) \n",
    "    gnpslibfile = 'GNPS_output_graphML_FeatureBased/DB_result/'+ str(os.listdir('GNPS_output_graphML_FeatureBased/DB_result/')[0]) \n",
    "\n",
    "elif 'clusterinfosummarygroup_attributes_withIDs_withcomponentID' in os.listdir('GNPS_output_graphML_FeatureBased/'):\n",
    "    netfile = 'GNPS_output_graphML_FeatureBased/clusterinfosummarygroup_attributes_withIDs_withcomponentID/' + str(os.listdir('GNPS_output_graphML_FeatureBased/clusterinfosummarygroup_attributes_withIDs_withcomponentID/')[0])\n",
    "    gnpslibfile = 'GNPS_output_graphML_FeatureBased/result_specnets_DB/'+ str(os.listdir('GNPS_output_graphML_FeatureBased/result_specnets_DB/')[0])\n",
    "\n",
    "else:\n",
    "    netfile = 'GNPS_output_graphML_FeatureBased/clusterinfosummary/' + str(os.listdir('GNPS_output_graphML_FeatureBased/clusterinfosummary/')[0])\n",
    "    gnpslibfile = 'GNPS_output_graphML_FeatureBased/result_specnets_DB/'+ str(os.listdir('GNPS_output_graphML_FeatureBased/result_specnets_DB/')[0]) "
   ]
  },
  {
   "cell_type": "code",
   "execution_count": 4,
   "metadata": {},
   "outputs": [],
   "source": [
    "nap = pd.read_csv(\"http://proteomics2.ucsd.edu/ProteoSAFe/DownloadResultFile?task=\"+nap_id+\"&block=main&file=final_out/node_attributes_table.tsv\", sep = \"\\t\")\n",
    "gnpslib = pd.read_csv(gnpslibfile, sep='\\t')"
   ]
  },
  {
   "cell_type": "markdown",
   "metadata": {},
   "source": [
    "add all chemical structural information output as dataframe items in list"
   ]
  },
  {
   "cell_type": "code",
   "execution_count": 5,
   "metadata": {},
   "outputs": [],
   "source": [
    "matches = [gnpslib, nap]"
   ]
  },
  {
   "cell_type": "code",
   "execution_count": 6,
   "metadata": {},
   "outputs": [],
   "source": [
    "out = unique_smiles(matches)"
   ]
  },
  {
   "cell_type": "code",
   "execution_count": 7,
   "metadata": {},
   "outputs": [],
   "source": [
    "out['df'].to_csv(\"SMILES.csv\", quoting=csv.QUOTE_NONE, escapechar='&')"
   ]
  },
  {
   "cell_type": "markdown",
   "metadata": {},
   "source": [
    "convert SMILES to InchiKeys"
   ]
  },
  {
   "cell_type": "code",
   "execution_count": 8,
   "metadata": {},
   "outputs": [
    {
     "name": "stderr",
     "output_type": "stream",
     "text": [
      "SMILES.csv: error in molecule 1460: Cannot recognize format by any of the supported molecular file format recognizers.\n",
      "Unrecognized file contents:\n",
      "C/C=c/1(c2=CC=Nc2c1Cc1cc(cc(c1)C)C)C[C@H]1[C@H]([C@@H]2[C@@]3(CCC(=O)[C@@]([C@@H]3CC[C@@]2([C@@]2(C1=C(C(=O)C2)[C@H](C)C[C@H]([C@@H]1C(O1)(C)C)O)C)C)(C)C1CCCC1)C)O...\n",
      "\n"
     ]
    }
   ],
   "source": [
    "! molconvert inchikey:SAbs SMILES.csv{csv:strucSMILES} -o InchiKeys_FeatureBased.txt"
   ]
  },
  {
   "cell_type": "code",
   "execution_count": 9,
   "metadata": {},
   "outputs": [
    {
     "data": {
      "text/plain": [
       "6248"
      ]
     },
     "execution_count": 9,
     "metadata": {},
     "output_type": "execute_result"
    }
   ],
   "source": [
    "smiles_df = pd.read_csv('SMILES.csv')\n",
    "len(smiles_df)"
   ]
  },
  {
   "cell_type": "code",
   "execution_count": 10,
   "metadata": {},
   "outputs": [
    {
     "data": {
      "text/plain": [
       "1459"
      ]
     },
     "execution_count": 10,
     "metadata": {},
     "output_type": "execute_result"
    }
   ],
   "source": [
    "len(pd.read_csv('InchiKeys_FeatureBased.txt', sep='\\t', header=None))"
   ]
  },
  {
   "cell_type": "code",
   "execution_count": 11,
   "metadata": {
    "scrolled": true
   },
   "outputs": [],
   "source": [
    "ikeys = pd.read_csv(\"InchiKeys_FeatureBased.txt\",  sep='\\t',header = None)"
   ]
  },
  {
   "cell_type": "code",
   "execution_count": 12,
   "metadata": {},
   "outputs": [
    {
     "data": {
      "text/plain": [
       "1459"
      ]
     },
     "execution_count": 12,
     "metadata": {},
     "output_type": "execute_result"
    }
   ],
   "source": [
    "len(ikeys)"
   ]
  },
  {
   "cell_type": "code",
   "execution_count": 13,
   "metadata": {},
   "outputs": [],
   "source": [
    "out['df']['inchikey'] = ikeys\n",
    "inchi_dic = make_inchidic(out)"
   ]
  },
  {
   "cell_type": "code",
   "execution_count": 14,
   "metadata": {},
   "outputs": [
    {
     "data": {
      "text/plain": [
       "6248"
      ]
     },
     "execution_count": 14,
     "metadata": {},
     "output_type": "execute_result"
    }
   ],
   "source": [
    "len(out['df']['inchikey'])"
   ]
  },
  {
   "cell_type": "code",
   "execution_count": 15,
   "metadata": {},
   "outputs": [
    {
     "data": {
      "text/plain": [
       "1705"
      ]
     },
     "execution_count": 15,
     "metadata": {},
     "output_type": "execute_result"
    }
   ],
   "source": [
    "len(inchi_dic)"
   ]
  },
  {
   "cell_type": "code",
   "execution_count": 16,
   "metadata": {},
   "outputs": [],
   "source": [
    "ikeys.columns = ['InChIKey']\n",
    "ikeys.to_csv('InchiKeys_FeatureBased.txt', quoting=csv.QUOTE_NONE, escapechar='&')"
   ]
  },
  {
   "cell_type": "markdown",
   "metadata": {},
   "source": [
    "retrieve ClassyFire classifcations"
   ]
  },
  {
   "cell_type": "code",
   "execution_count": 19,
   "metadata": {},
   "outputs": [
    {
     "name": "stdout",
     "output_type": "stream",
     "text": [
      "1000\n"
     ]
    },
    {
     "name": "stderr",
     "output_type": "stream",
     "text": [
      "exception calling callback for <Future at 0x2068f170080 state=finished raised TerminatedWorkerError>\n",
      "Traceback (most recent call last):\n",
      "  File \"C:\\ProgramData\\Anaconda3\\lib\\site-packages\\joblib\\externals\\loky\\_base.py\", line 625, in _invoke_callbacks\n",
      "    callback(self)\n",
      "  File \"C:\\ProgramData\\Anaconda3\\lib\\site-packages\\joblib\\parallel.py\", line 309, in __call__\n",
      "    self.parallel.dispatch_next()\n",
      "  File \"C:\\ProgramData\\Anaconda3\\lib\\site-packages\\joblib\\parallel.py\", line 731, in dispatch_next\n",
      "    if not self.dispatch_one_batch(self._original_iterator):\n",
      "  File \"C:\\ProgramData\\Anaconda3\\lib\\site-packages\\joblib\\parallel.py\", line 759, in dispatch_one_batch\n",
      "    self._dispatch(tasks)\n",
      "  File \"C:\\ProgramData\\Anaconda3\\lib\\site-packages\\joblib\\parallel.py\", line 716, in _dispatch\n",
      "    job = self._backend.apply_async(batch, callback=cb)\n",
      "  File \"C:\\ProgramData\\Anaconda3\\lib\\site-packages\\joblib\\_parallel_backends.py\", line 510, in apply_async\n",
      "    future = self._workers.submit(SafeFunction(func))\n",
      "  File \"C:\\ProgramData\\Anaconda3\\lib\\site-packages\\joblib\\externals\\loky\\reusable_executor.py\", line 151, in submit\n",
      "    fn, *args, **kwargs)\n",
      "  File \"C:\\ProgramData\\Anaconda3\\lib\\site-packages\\joblib\\externals\\loky\\process_executor.py\", line 1022, in submit\n",
      "    raise self._flags.broken\n",
      "joblib.externals.loky.process_executor.TerminatedWorkerError: A worker process managed by the executor was unexpectedly terminated. This could be caused by a segmentation fault while calling the function or by an excessive memory usage causing the Operating System to kill the worker.\n"
     ]
    },
    {
     "ename": "TerminatedWorkerError",
     "evalue": "A worker process managed by the executor was unexpectedly terminated. This could be caused by a segmentation fault while calling the function or by an excessive memory usage causing the Operating System to kill the worker.",
     "output_type": "error",
     "traceback": [
      "\u001b[1;31m---------------------------------------------------------------------------\u001b[0m",
      "\u001b[1;31mTerminatedWorkerError\u001b[0m                     Traceback (most recent call last)",
      "\u001b[1;32m<ipython-input-19-0db586e07552>\u001b[0m in \u001b[0;36m<module>\u001b[1;34m\u001b[0m\n\u001b[1;32m----> 1\u001b[1;33m \u001b[0mget_classifications\u001b[0m\u001b[1;33m(\u001b[0m\u001b[1;34m\"InchiKeys_FeatureBased.txt\"\u001b[0m\u001b[1;33m)\u001b[0m\u001b[1;33m\u001b[0m\u001b[1;33m\u001b[0m\u001b[0m\n\u001b[0m",
      "\u001b[1;32mC:\\ProgramData\\Anaconda3\\lib\\site-packages\\pyMolNetEnhancer\\molnetenhancer.py\u001b[0m in \u001b[0;36mget_classifications\u001b[1;34m(inchifile)\u001b[0m\n\u001b[0;32m    840\u001b[0m \u001b[1;33m\u001b[0m\u001b[0m\n\u001b[0;32m    841\u001b[0m         \u001b[1;31m#all_inchi_keys = all_inchi_keys[-1000:]\u001b[0m\u001b[1;33m\u001b[0m\u001b[1;33m\u001b[0m\u001b[1;33m\u001b[0m\u001b[0m\n\u001b[1;32m--> 842\u001b[1;33m         \u001b[0mall_json\u001b[0m \u001b[1;33m=\u001b[0m \u001b[0mrun_parallel_job\u001b[0m\u001b[1;33m(\u001b[0m\u001b[0mget_structure_class_entity\u001b[0m\u001b[1;33m,\u001b[0m \u001b[0mall_inchi_keys\u001b[0m\u001b[1;33m,\u001b[0m \u001b[1;36m50\u001b[0m\u001b[1;33m)\u001b[0m\u001b[1;33m\u001b[0m\u001b[1;33m\u001b[0m\u001b[0m\n\u001b[0m\u001b[0;32m    843\u001b[0m \u001b[1;33m\u001b[0m\u001b[0m\n\u001b[0;32m    844\u001b[0m         \u001b[0mopen\u001b[0m\u001b[1;33m(\u001b[0m\u001b[1;34m\"all_json.json\"\u001b[0m\u001b[1;33m,\u001b[0m \u001b[1;34m\"w\"\u001b[0m\u001b[1;33m)\u001b[0m\u001b[1;33m.\u001b[0m\u001b[0mwrite\u001b[0m\u001b[1;33m(\u001b[0m\u001b[0mjson\u001b[0m\u001b[1;33m.\u001b[0m\u001b[0mdumps\u001b[0m\u001b[1;33m(\u001b[0m\u001b[0mall_json\u001b[0m\u001b[1;33m)\u001b[0m\u001b[1;33m)\u001b[0m\u001b[1;33m\u001b[0m\u001b[1;33m\u001b[0m\u001b[0m\n",
      "\u001b[1;32mC:\\ProgramData\\Anaconda3\\lib\\site-packages\\pyMolNetEnhancer\\molnetenhancer.py\u001b[0m in \u001b[0;36mrun_parallel_job\u001b[1;34m(input_function, input_parameters_list, parallelism_level)\u001b[0m\n\u001b[0;32m    820\u001b[0m                 \u001b[1;32mreturn\u001b[0m \u001b[0moutput_results_list\u001b[0m\u001b[1;33m\u001b[0m\u001b[1;33m\u001b[0m\u001b[0m\n\u001b[0;32m    821\u001b[0m         \u001b[1;32melse\u001b[0m\u001b[1;33m:\u001b[0m\u001b[1;33m\u001b[0m\u001b[1;33m\u001b[0m\u001b[0m\n\u001b[1;32m--> 822\u001b[1;33m                 \u001b[0mresults\u001b[0m \u001b[1;33m=\u001b[0m \u001b[0mParallel\u001b[0m\u001b[1;33m(\u001b[0m\u001b[0mn_jobs\u001b[0m \u001b[1;33m=\u001b[0m \u001b[0mparallelism_level\u001b[0m\u001b[1;33m)\u001b[0m\u001b[1;33m(\u001b[0m\u001b[0mdelayed\u001b[0m\u001b[1;33m(\u001b[0m\u001b[0minput_function\u001b[0m\u001b[1;33m)\u001b[0m\u001b[1;33m(\u001b[0m\u001b[0minput_object\u001b[0m\u001b[1;33m)\u001b[0m \u001b[1;32mfor\u001b[0m \u001b[0minput_object\u001b[0m \u001b[1;32min\u001b[0m \u001b[0minput_parameters_list\u001b[0m\u001b[1;33m)\u001b[0m\u001b[1;33m\u001b[0m\u001b[1;33m\u001b[0m\u001b[0m\n\u001b[0m\u001b[0;32m    823\u001b[0m                 \u001b[1;32mreturn\u001b[0m \u001b[0mresults\u001b[0m\u001b[1;33m\u001b[0m\u001b[1;33m\u001b[0m\u001b[0m\n\u001b[0;32m    824\u001b[0m \u001b[1;33m\u001b[0m\u001b[0m\n",
      "\u001b[1;32mC:\\ProgramData\\Anaconda3\\lib\\site-packages\\joblib\\parallel.py\u001b[0m in \u001b[0;36m__call__\u001b[1;34m(self, iterable)\u001b[0m\n\u001b[0;32m    932\u001b[0m \u001b[1;33m\u001b[0m\u001b[0m\n\u001b[0;32m    933\u001b[0m             \u001b[1;32mwith\u001b[0m \u001b[0mself\u001b[0m\u001b[1;33m.\u001b[0m\u001b[0m_backend\u001b[0m\u001b[1;33m.\u001b[0m\u001b[0mretrieval_context\u001b[0m\u001b[1;33m(\u001b[0m\u001b[1;33m)\u001b[0m\u001b[1;33m:\u001b[0m\u001b[1;33m\u001b[0m\u001b[1;33m\u001b[0m\u001b[0m\n\u001b[1;32m--> 934\u001b[1;33m                 \u001b[0mself\u001b[0m\u001b[1;33m.\u001b[0m\u001b[0mretrieve\u001b[0m\u001b[1;33m(\u001b[0m\u001b[1;33m)\u001b[0m\u001b[1;33m\u001b[0m\u001b[1;33m\u001b[0m\u001b[0m\n\u001b[0m\u001b[0;32m    935\u001b[0m             \u001b[1;31m# Make sure that we get a last message telling us we are done\u001b[0m\u001b[1;33m\u001b[0m\u001b[1;33m\u001b[0m\u001b[1;33m\u001b[0m\u001b[0m\n\u001b[0;32m    936\u001b[0m             \u001b[0melapsed_time\u001b[0m \u001b[1;33m=\u001b[0m \u001b[0mtime\u001b[0m\u001b[1;33m.\u001b[0m\u001b[0mtime\u001b[0m\u001b[1;33m(\u001b[0m\u001b[1;33m)\u001b[0m \u001b[1;33m-\u001b[0m \u001b[0mself\u001b[0m\u001b[1;33m.\u001b[0m\u001b[0m_start_time\u001b[0m\u001b[1;33m\u001b[0m\u001b[1;33m\u001b[0m\u001b[0m\n",
      "\u001b[1;32mC:\\ProgramData\\Anaconda3\\lib\\site-packages\\joblib\\parallel.py\u001b[0m in \u001b[0;36mretrieve\u001b[1;34m(self)\u001b[0m\n\u001b[0;32m    831\u001b[0m             \u001b[1;32mtry\u001b[0m\u001b[1;33m:\u001b[0m\u001b[1;33m\u001b[0m\u001b[1;33m\u001b[0m\u001b[0m\n\u001b[0;32m    832\u001b[0m                 \u001b[1;32mif\u001b[0m \u001b[0mgetattr\u001b[0m\u001b[1;33m(\u001b[0m\u001b[0mself\u001b[0m\u001b[1;33m.\u001b[0m\u001b[0m_backend\u001b[0m\u001b[1;33m,\u001b[0m \u001b[1;34m'supports_timeout'\u001b[0m\u001b[1;33m,\u001b[0m \u001b[1;32mFalse\u001b[0m\u001b[1;33m)\u001b[0m\u001b[1;33m:\u001b[0m\u001b[1;33m\u001b[0m\u001b[1;33m\u001b[0m\u001b[0m\n\u001b[1;32m--> 833\u001b[1;33m                     \u001b[0mself\u001b[0m\u001b[1;33m.\u001b[0m\u001b[0m_output\u001b[0m\u001b[1;33m.\u001b[0m\u001b[0mextend\u001b[0m\u001b[1;33m(\u001b[0m\u001b[0mjob\u001b[0m\u001b[1;33m.\u001b[0m\u001b[0mget\u001b[0m\u001b[1;33m(\u001b[0m\u001b[0mtimeout\u001b[0m\u001b[1;33m=\u001b[0m\u001b[0mself\u001b[0m\u001b[1;33m.\u001b[0m\u001b[0mtimeout\u001b[0m\u001b[1;33m)\u001b[0m\u001b[1;33m)\u001b[0m\u001b[1;33m\u001b[0m\u001b[1;33m\u001b[0m\u001b[0m\n\u001b[0m\u001b[0;32m    834\u001b[0m                 \u001b[1;32melse\u001b[0m\u001b[1;33m:\u001b[0m\u001b[1;33m\u001b[0m\u001b[1;33m\u001b[0m\u001b[0m\n\u001b[0;32m    835\u001b[0m                     \u001b[0mself\u001b[0m\u001b[1;33m.\u001b[0m\u001b[0m_output\u001b[0m\u001b[1;33m.\u001b[0m\u001b[0mextend\u001b[0m\u001b[1;33m(\u001b[0m\u001b[0mjob\u001b[0m\u001b[1;33m.\u001b[0m\u001b[0mget\u001b[0m\u001b[1;33m(\u001b[0m\u001b[1;33m)\u001b[0m\u001b[1;33m)\u001b[0m\u001b[1;33m\u001b[0m\u001b[1;33m\u001b[0m\u001b[0m\n",
      "\u001b[1;32mC:\\ProgramData\\Anaconda3\\lib\\site-packages\\joblib\\_parallel_backends.py\u001b[0m in \u001b[0;36mwrap_future_result\u001b[1;34m(future, timeout)\u001b[0m\n\u001b[0;32m    519\u001b[0m         AsyncResults.get from multiprocessing.\"\"\"\n\u001b[0;32m    520\u001b[0m         \u001b[1;32mtry\u001b[0m\u001b[1;33m:\u001b[0m\u001b[1;33m\u001b[0m\u001b[1;33m\u001b[0m\u001b[0m\n\u001b[1;32m--> 521\u001b[1;33m             \u001b[1;32mreturn\u001b[0m \u001b[0mfuture\u001b[0m\u001b[1;33m.\u001b[0m\u001b[0mresult\u001b[0m\u001b[1;33m(\u001b[0m\u001b[0mtimeout\u001b[0m\u001b[1;33m=\u001b[0m\u001b[0mtimeout\u001b[0m\u001b[1;33m)\u001b[0m\u001b[1;33m\u001b[0m\u001b[1;33m\u001b[0m\u001b[0m\n\u001b[0m\u001b[0;32m    522\u001b[0m         \u001b[1;32mexcept\u001b[0m \u001b[0mLokyTimeoutError\u001b[0m\u001b[1;33m:\u001b[0m\u001b[1;33m\u001b[0m\u001b[1;33m\u001b[0m\u001b[0m\n\u001b[0;32m    523\u001b[0m             \u001b[1;32mraise\u001b[0m \u001b[0mTimeoutError\u001b[0m\u001b[1;33m(\u001b[0m\u001b[1;33m)\u001b[0m\u001b[1;33m\u001b[0m\u001b[1;33m\u001b[0m\u001b[0m\n",
      "\u001b[1;32mC:\\ProgramData\\Anaconda3\\lib\\concurrent\\futures\\_base.py\u001b[0m in \u001b[0;36mresult\u001b[1;34m(self, timeout)\u001b[0m\n\u001b[0;32m    430\u001b[0m                 \u001b[1;32mraise\u001b[0m \u001b[0mCancelledError\u001b[0m\u001b[1;33m(\u001b[0m\u001b[1;33m)\u001b[0m\u001b[1;33m\u001b[0m\u001b[1;33m\u001b[0m\u001b[0m\n\u001b[0;32m    431\u001b[0m             \u001b[1;32melif\u001b[0m \u001b[0mself\u001b[0m\u001b[1;33m.\u001b[0m\u001b[0m_state\u001b[0m \u001b[1;33m==\u001b[0m \u001b[0mFINISHED\u001b[0m\u001b[1;33m:\u001b[0m\u001b[1;33m\u001b[0m\u001b[1;33m\u001b[0m\u001b[0m\n\u001b[1;32m--> 432\u001b[1;33m                 \u001b[1;32mreturn\u001b[0m \u001b[0mself\u001b[0m\u001b[1;33m.\u001b[0m\u001b[0m__get_result\u001b[0m\u001b[1;33m(\u001b[0m\u001b[1;33m)\u001b[0m\u001b[1;33m\u001b[0m\u001b[1;33m\u001b[0m\u001b[0m\n\u001b[0m\u001b[0;32m    433\u001b[0m             \u001b[1;32melse\u001b[0m\u001b[1;33m:\u001b[0m\u001b[1;33m\u001b[0m\u001b[1;33m\u001b[0m\u001b[0m\n\u001b[0;32m    434\u001b[0m                 \u001b[1;32mraise\u001b[0m \u001b[0mTimeoutError\u001b[0m\u001b[1;33m(\u001b[0m\u001b[1;33m)\u001b[0m\u001b[1;33m\u001b[0m\u001b[1;33m\u001b[0m\u001b[0m\n",
      "\u001b[1;32mC:\\ProgramData\\Anaconda3\\lib\\concurrent\\futures\\_base.py\u001b[0m in \u001b[0;36m__get_result\u001b[1;34m(self)\u001b[0m\n\u001b[0;32m    382\u001b[0m     \u001b[1;32mdef\u001b[0m \u001b[0m__get_result\u001b[0m\u001b[1;33m(\u001b[0m\u001b[0mself\u001b[0m\u001b[1;33m)\u001b[0m\u001b[1;33m:\u001b[0m\u001b[1;33m\u001b[0m\u001b[1;33m\u001b[0m\u001b[0m\n\u001b[0;32m    383\u001b[0m         \u001b[1;32mif\u001b[0m \u001b[0mself\u001b[0m\u001b[1;33m.\u001b[0m\u001b[0m_exception\u001b[0m\u001b[1;33m:\u001b[0m\u001b[1;33m\u001b[0m\u001b[1;33m\u001b[0m\u001b[0m\n\u001b[1;32m--> 384\u001b[1;33m             \u001b[1;32mraise\u001b[0m \u001b[0mself\u001b[0m\u001b[1;33m.\u001b[0m\u001b[0m_exception\u001b[0m\u001b[1;33m\u001b[0m\u001b[1;33m\u001b[0m\u001b[0m\n\u001b[0m\u001b[0;32m    385\u001b[0m         \u001b[1;32melse\u001b[0m\u001b[1;33m:\u001b[0m\u001b[1;33m\u001b[0m\u001b[1;33m\u001b[0m\u001b[0m\n\u001b[0;32m    386\u001b[0m             \u001b[1;32mreturn\u001b[0m \u001b[0mself\u001b[0m\u001b[1;33m.\u001b[0m\u001b[0m_result\u001b[0m\u001b[1;33m\u001b[0m\u001b[1;33m\u001b[0m\u001b[0m\n",
      "\u001b[1;32mC:\\ProgramData\\Anaconda3\\lib\\site-packages\\joblib\\externals\\loky\\_base.py\u001b[0m in \u001b[0;36m_invoke_callbacks\u001b[1;34m(self)\u001b[0m\n\u001b[0;32m    623\u001b[0m         \u001b[1;32mfor\u001b[0m \u001b[0mcallback\u001b[0m \u001b[1;32min\u001b[0m \u001b[0mself\u001b[0m\u001b[1;33m.\u001b[0m\u001b[0m_done_callbacks\u001b[0m\u001b[1;33m:\u001b[0m\u001b[1;33m\u001b[0m\u001b[1;33m\u001b[0m\u001b[0m\n\u001b[0;32m    624\u001b[0m             \u001b[1;32mtry\u001b[0m\u001b[1;33m:\u001b[0m\u001b[1;33m\u001b[0m\u001b[1;33m\u001b[0m\u001b[0m\n\u001b[1;32m--> 625\u001b[1;33m                 \u001b[0mcallback\u001b[0m\u001b[1;33m(\u001b[0m\u001b[0mself\u001b[0m\u001b[1;33m)\u001b[0m\u001b[1;33m\u001b[0m\u001b[1;33m\u001b[0m\u001b[0m\n\u001b[0m\u001b[0;32m    626\u001b[0m             \u001b[1;32mexcept\u001b[0m \u001b[0mBaseException\u001b[0m\u001b[1;33m:\u001b[0m\u001b[1;33m\u001b[0m\u001b[1;33m\u001b[0m\u001b[0m\n\u001b[0;32m    627\u001b[0m                 \u001b[0mLOGGER\u001b[0m\u001b[1;33m.\u001b[0m\u001b[0mexception\u001b[0m\u001b[1;33m(\u001b[0m\u001b[1;34m'exception calling callback for %r'\u001b[0m\u001b[1;33m,\u001b[0m \u001b[0mself\u001b[0m\u001b[1;33m)\u001b[0m\u001b[1;33m\u001b[0m\u001b[1;33m\u001b[0m\u001b[0m\n",
      "\u001b[1;32mC:\\ProgramData\\Anaconda3\\lib\\site-packages\\joblib\\parallel.py\u001b[0m in \u001b[0;36m__call__\u001b[1;34m(self, out)\u001b[0m\n\u001b[0;32m    307\u001b[0m         \u001b[1;32mwith\u001b[0m \u001b[0mself\u001b[0m\u001b[1;33m.\u001b[0m\u001b[0mparallel\u001b[0m\u001b[1;33m.\u001b[0m\u001b[0m_lock\u001b[0m\u001b[1;33m:\u001b[0m\u001b[1;33m\u001b[0m\u001b[1;33m\u001b[0m\u001b[0m\n\u001b[0;32m    308\u001b[0m             \u001b[1;32mif\u001b[0m \u001b[0mself\u001b[0m\u001b[1;33m.\u001b[0m\u001b[0mparallel\u001b[0m\u001b[1;33m.\u001b[0m\u001b[0m_original_iterator\u001b[0m \u001b[1;32mis\u001b[0m \u001b[1;32mnot\u001b[0m \u001b[1;32mNone\u001b[0m\u001b[1;33m:\u001b[0m\u001b[1;33m\u001b[0m\u001b[1;33m\u001b[0m\u001b[0m\n\u001b[1;32m--> 309\u001b[1;33m                 \u001b[0mself\u001b[0m\u001b[1;33m.\u001b[0m\u001b[0mparallel\u001b[0m\u001b[1;33m.\u001b[0m\u001b[0mdispatch_next\u001b[0m\u001b[1;33m(\u001b[0m\u001b[1;33m)\u001b[0m\u001b[1;33m\u001b[0m\u001b[1;33m\u001b[0m\u001b[0m\n\u001b[0m\u001b[0;32m    310\u001b[0m \u001b[1;33m\u001b[0m\u001b[0m\n\u001b[0;32m    311\u001b[0m \u001b[1;33m\u001b[0m\u001b[0m\n",
      "\u001b[1;32mC:\\ProgramData\\Anaconda3\\lib\\site-packages\\joblib\\parallel.py\u001b[0m in \u001b[0;36mdispatch_next\u001b[1;34m(self)\u001b[0m\n\u001b[0;32m    729\u001b[0m \u001b[1;33m\u001b[0m\u001b[0m\n\u001b[0;32m    730\u001b[0m         \"\"\"\n\u001b[1;32m--> 731\u001b[1;33m         \u001b[1;32mif\u001b[0m \u001b[1;32mnot\u001b[0m \u001b[0mself\u001b[0m\u001b[1;33m.\u001b[0m\u001b[0mdispatch_one_batch\u001b[0m\u001b[1;33m(\u001b[0m\u001b[0mself\u001b[0m\u001b[1;33m.\u001b[0m\u001b[0m_original_iterator\u001b[0m\u001b[1;33m)\u001b[0m\u001b[1;33m:\u001b[0m\u001b[1;33m\u001b[0m\u001b[1;33m\u001b[0m\u001b[0m\n\u001b[0m\u001b[0;32m    732\u001b[0m             \u001b[0mself\u001b[0m\u001b[1;33m.\u001b[0m\u001b[0m_iterating\u001b[0m \u001b[1;33m=\u001b[0m \u001b[1;32mFalse\u001b[0m\u001b[1;33m\u001b[0m\u001b[1;33m\u001b[0m\u001b[0m\n\u001b[0;32m    733\u001b[0m             \u001b[0mself\u001b[0m\u001b[1;33m.\u001b[0m\u001b[0m_original_iterator\u001b[0m \u001b[1;33m=\u001b[0m \u001b[1;32mNone\u001b[0m\u001b[1;33m\u001b[0m\u001b[1;33m\u001b[0m\u001b[0m\n",
      "\u001b[1;32mC:\\ProgramData\\Anaconda3\\lib\\site-packages\\joblib\\parallel.py\u001b[0m in \u001b[0;36mdispatch_one_batch\u001b[1;34m(self, iterator)\u001b[0m\n\u001b[0;32m    757\u001b[0m                 \u001b[1;32mreturn\u001b[0m \u001b[1;32mFalse\u001b[0m\u001b[1;33m\u001b[0m\u001b[1;33m\u001b[0m\u001b[0m\n\u001b[0;32m    758\u001b[0m             \u001b[1;32melse\u001b[0m\u001b[1;33m:\u001b[0m\u001b[1;33m\u001b[0m\u001b[1;33m\u001b[0m\u001b[0m\n\u001b[1;32m--> 759\u001b[1;33m                 \u001b[0mself\u001b[0m\u001b[1;33m.\u001b[0m\u001b[0m_dispatch\u001b[0m\u001b[1;33m(\u001b[0m\u001b[0mtasks\u001b[0m\u001b[1;33m)\u001b[0m\u001b[1;33m\u001b[0m\u001b[1;33m\u001b[0m\u001b[0m\n\u001b[0m\u001b[0;32m    760\u001b[0m                 \u001b[1;32mreturn\u001b[0m \u001b[1;32mTrue\u001b[0m\u001b[1;33m\u001b[0m\u001b[1;33m\u001b[0m\u001b[0m\n\u001b[0;32m    761\u001b[0m \u001b[1;33m\u001b[0m\u001b[0m\n",
      "\u001b[1;32mC:\\ProgramData\\Anaconda3\\lib\\site-packages\\joblib\\parallel.py\u001b[0m in \u001b[0;36m_dispatch\u001b[1;34m(self, batch)\u001b[0m\n\u001b[0;32m    714\u001b[0m         \u001b[1;32mwith\u001b[0m \u001b[0mself\u001b[0m\u001b[1;33m.\u001b[0m\u001b[0m_lock\u001b[0m\u001b[1;33m:\u001b[0m\u001b[1;33m\u001b[0m\u001b[1;33m\u001b[0m\u001b[0m\n\u001b[0;32m    715\u001b[0m             \u001b[0mjob_idx\u001b[0m \u001b[1;33m=\u001b[0m \u001b[0mlen\u001b[0m\u001b[1;33m(\u001b[0m\u001b[0mself\u001b[0m\u001b[1;33m.\u001b[0m\u001b[0m_jobs\u001b[0m\u001b[1;33m)\u001b[0m\u001b[1;33m\u001b[0m\u001b[1;33m\u001b[0m\u001b[0m\n\u001b[1;32m--> 716\u001b[1;33m             \u001b[0mjob\u001b[0m \u001b[1;33m=\u001b[0m \u001b[0mself\u001b[0m\u001b[1;33m.\u001b[0m\u001b[0m_backend\u001b[0m\u001b[1;33m.\u001b[0m\u001b[0mapply_async\u001b[0m\u001b[1;33m(\u001b[0m\u001b[0mbatch\u001b[0m\u001b[1;33m,\u001b[0m \u001b[0mcallback\u001b[0m\u001b[1;33m=\u001b[0m\u001b[0mcb\u001b[0m\u001b[1;33m)\u001b[0m\u001b[1;33m\u001b[0m\u001b[1;33m\u001b[0m\u001b[0m\n\u001b[0m\u001b[0;32m    717\u001b[0m             \u001b[1;31m# A job can complete so quickly than its callback is\u001b[0m\u001b[1;33m\u001b[0m\u001b[1;33m\u001b[0m\u001b[1;33m\u001b[0m\u001b[0m\n\u001b[0;32m    718\u001b[0m             \u001b[1;31m# called before we get here, causing self._jobs to\u001b[0m\u001b[1;33m\u001b[0m\u001b[1;33m\u001b[0m\u001b[1;33m\u001b[0m\u001b[0m\n",
      "\u001b[1;32mC:\\ProgramData\\Anaconda3\\lib\\site-packages\\joblib\\_parallel_backends.py\u001b[0m in \u001b[0;36mapply_async\u001b[1;34m(self, func, callback)\u001b[0m\n\u001b[0;32m    508\u001b[0m     \u001b[1;32mdef\u001b[0m \u001b[0mapply_async\u001b[0m\u001b[1;33m(\u001b[0m\u001b[0mself\u001b[0m\u001b[1;33m,\u001b[0m \u001b[0mfunc\u001b[0m\u001b[1;33m,\u001b[0m \u001b[0mcallback\u001b[0m\u001b[1;33m=\u001b[0m\u001b[1;32mNone\u001b[0m\u001b[1;33m)\u001b[0m\u001b[1;33m:\u001b[0m\u001b[1;33m\u001b[0m\u001b[1;33m\u001b[0m\u001b[0m\n\u001b[0;32m    509\u001b[0m         \u001b[1;34m\"\"\"Schedule a func to be run\"\"\"\u001b[0m\u001b[1;33m\u001b[0m\u001b[1;33m\u001b[0m\u001b[0m\n\u001b[1;32m--> 510\u001b[1;33m         \u001b[0mfuture\u001b[0m \u001b[1;33m=\u001b[0m \u001b[0mself\u001b[0m\u001b[1;33m.\u001b[0m\u001b[0m_workers\u001b[0m\u001b[1;33m.\u001b[0m\u001b[0msubmit\u001b[0m\u001b[1;33m(\u001b[0m\u001b[0mSafeFunction\u001b[0m\u001b[1;33m(\u001b[0m\u001b[0mfunc\u001b[0m\u001b[1;33m)\u001b[0m\u001b[1;33m)\u001b[0m\u001b[1;33m\u001b[0m\u001b[1;33m\u001b[0m\u001b[0m\n\u001b[0m\u001b[0;32m    511\u001b[0m         \u001b[0mfuture\u001b[0m\u001b[1;33m.\u001b[0m\u001b[0mget\u001b[0m \u001b[1;33m=\u001b[0m \u001b[0mfunctools\u001b[0m\u001b[1;33m.\u001b[0m\u001b[0mpartial\u001b[0m\u001b[1;33m(\u001b[0m\u001b[0mself\u001b[0m\u001b[1;33m.\u001b[0m\u001b[0mwrap_future_result\u001b[0m\u001b[1;33m,\u001b[0m \u001b[0mfuture\u001b[0m\u001b[1;33m)\u001b[0m\u001b[1;33m\u001b[0m\u001b[1;33m\u001b[0m\u001b[0m\n\u001b[0;32m    512\u001b[0m         \u001b[1;32mif\u001b[0m \u001b[0mcallback\u001b[0m \u001b[1;32mis\u001b[0m \u001b[1;32mnot\u001b[0m \u001b[1;32mNone\u001b[0m\u001b[1;33m:\u001b[0m\u001b[1;33m\u001b[0m\u001b[1;33m\u001b[0m\u001b[0m\n",
      "\u001b[1;32mC:\\ProgramData\\Anaconda3\\lib\\site-packages\\joblib\\externals\\loky\\reusable_executor.py\u001b[0m in \u001b[0;36msubmit\u001b[1;34m(self, fn, *args, **kwargs)\u001b[0m\n\u001b[0;32m    149\u001b[0m         \u001b[1;32mwith\u001b[0m \u001b[0mself\u001b[0m\u001b[1;33m.\u001b[0m\u001b[0m_submit_resize_lock\u001b[0m\u001b[1;33m:\u001b[0m\u001b[1;33m\u001b[0m\u001b[1;33m\u001b[0m\u001b[0m\n\u001b[0;32m    150\u001b[0m             return super(_ReusablePoolExecutor, self).submit(\n\u001b[1;32m--> 151\u001b[1;33m                 fn, *args, **kwargs)\n\u001b[0m\u001b[0;32m    152\u001b[0m \u001b[1;33m\u001b[0m\u001b[0m\n\u001b[0;32m    153\u001b[0m     \u001b[1;32mdef\u001b[0m \u001b[0m_resize\u001b[0m\u001b[1;33m(\u001b[0m\u001b[0mself\u001b[0m\u001b[1;33m,\u001b[0m \u001b[0mmax_workers\u001b[0m\u001b[1;33m)\u001b[0m\u001b[1;33m:\u001b[0m\u001b[1;33m\u001b[0m\u001b[1;33m\u001b[0m\u001b[0m\n",
      "\u001b[1;32mC:\\ProgramData\\Anaconda3\\lib\\site-packages\\joblib\\externals\\loky\\process_executor.py\u001b[0m in \u001b[0;36msubmit\u001b[1;34m(self, fn, *args, **kwargs)\u001b[0m\n\u001b[0;32m   1020\u001b[0m         \u001b[1;32mwith\u001b[0m \u001b[0mself\u001b[0m\u001b[1;33m.\u001b[0m\u001b[0m_flags\u001b[0m\u001b[1;33m.\u001b[0m\u001b[0mshutdown_lock\u001b[0m\u001b[1;33m:\u001b[0m\u001b[1;33m\u001b[0m\u001b[1;33m\u001b[0m\u001b[0m\n\u001b[0;32m   1021\u001b[0m             \u001b[1;32mif\u001b[0m \u001b[0mself\u001b[0m\u001b[1;33m.\u001b[0m\u001b[0m_flags\u001b[0m\u001b[1;33m.\u001b[0m\u001b[0mbroken\u001b[0m \u001b[1;32mis\u001b[0m \u001b[1;32mnot\u001b[0m \u001b[1;32mNone\u001b[0m\u001b[1;33m:\u001b[0m\u001b[1;33m\u001b[0m\u001b[1;33m\u001b[0m\u001b[0m\n\u001b[1;32m-> 1022\u001b[1;33m                 \u001b[1;32mraise\u001b[0m \u001b[0mself\u001b[0m\u001b[1;33m.\u001b[0m\u001b[0m_flags\u001b[0m\u001b[1;33m.\u001b[0m\u001b[0mbroken\u001b[0m\u001b[1;33m\u001b[0m\u001b[1;33m\u001b[0m\u001b[0m\n\u001b[0m\u001b[0;32m   1023\u001b[0m             \u001b[1;32mif\u001b[0m \u001b[0mself\u001b[0m\u001b[1;33m.\u001b[0m\u001b[0m_flags\u001b[0m\u001b[1;33m.\u001b[0m\u001b[0mshutdown\u001b[0m\u001b[1;33m:\u001b[0m\u001b[1;33m\u001b[0m\u001b[1;33m\u001b[0m\u001b[0m\n\u001b[0;32m   1024\u001b[0m                 raise ShutdownExecutorError(\n",
      "\u001b[1;31mTerminatedWorkerError\u001b[0m: A worker process managed by the executor was unexpectedly terminated. This could be caused by a segmentation fault while calling the function or by an excessive memory usage causing the Operating System to kill the worker."
     ]
    }
   ],
   "source": [
    "get_classifications(\"InchiKeys_FeatureBased.txt\")"
   ]
  },
  {
   "cell_type": "code",
   "execution_count": 21,
   "metadata": {},
   "outputs": [],
   "source": [
    "with open(\"all_json.json\") as tweetfile:\n",
    "    jsondic = json.loads(tweetfile.read())\n",
    "\n",
    "\n",
    "df = make_classy_table(jsondic)\n",
    "df = df.rename(columns = {'class':'CF_class','smiles':'SMILES'})\n",
    "net = pd.read_csv(netfile,  sep='\\t')\n",
    "\n",
    "\n",
    "final = molfam_classes(net,df,inchi_dic)"
   ]
  },
  {
   "cell_type": "code",
   "execution_count": 22,
   "metadata": {},
   "outputs": [
    {
     "data": {
      "text/html": [
       "<div>\n",
       "<style scoped>\n",
       "    .dataframe tbody tr th:only-of-type {\n",
       "        vertical-align: middle;\n",
       "    }\n",
       "\n",
       "    .dataframe tbody tr th {\n",
       "        vertical-align: top;\n",
       "    }\n",
       "\n",
       "    .dataframe thead th {\n",
       "        text-align: right;\n",
       "    }\n",
       "</style>\n",
       "<table border=\"1\" class=\"dataframe\">\n",
       "  <thead>\n",
       "    <tr style=\"text-align: right;\">\n",
       "      <th></th>\n",
       "      <th>cluster index</th>\n",
       "      <th>CF_componentindex</th>\n",
       "      <th>CF_NrNodes</th>\n",
       "      <th>CF_kingdom</th>\n",
       "      <th>CF_kingdom_score</th>\n",
       "      <th>CF_superclass</th>\n",
       "      <th>CF_superclass_score</th>\n",
       "      <th>CF_class</th>\n",
       "      <th>CF_class_score</th>\n",
       "      <th>CF_subclass</th>\n",
       "      <th>CF_subclass_score</th>\n",
       "      <th>CF_Dparent</th>\n",
       "      <th>CF_Dparent_score</th>\n",
       "      <th>CF_MFramework</th>\n",
       "      <th>CF_MFramework_score</th>\n",
       "    </tr>\n",
       "  </thead>\n",
       "  <tbody>\n",
       "    <tr>\n",
       "      <th>0</th>\n",
       "      <td>1</td>\n",
       "      <td>343</td>\n",
       "      <td>4</td>\n",
       "      <td>no matches</td>\n",
       "      <td></td>\n",
       "      <td>no matches</td>\n",
       "      <td></td>\n",
       "      <td>no matches</td>\n",
       "      <td></td>\n",
       "      <td>no matches</td>\n",
       "      <td></td>\n",
       "      <td>no matches</td>\n",
       "      <td></td>\n",
       "      <td>no matches</td>\n",
       "      <td></td>\n",
       "    </tr>\n",
       "    <tr>\n",
       "      <th>1</th>\n",
       "      <td>3</td>\n",
       "      <td>343</td>\n",
       "      <td>4</td>\n",
       "      <td>no matches</td>\n",
       "      <td></td>\n",
       "      <td>no matches</td>\n",
       "      <td></td>\n",
       "      <td>no matches</td>\n",
       "      <td></td>\n",
       "      <td>no matches</td>\n",
       "      <td></td>\n",
       "      <td>no matches</td>\n",
       "      <td></td>\n",
       "      <td>no matches</td>\n",
       "      <td></td>\n",
       "    </tr>\n",
       "    <tr>\n",
       "      <th>2</th>\n",
       "      <td>20</td>\n",
       "      <td>343</td>\n",
       "      <td>4</td>\n",
       "      <td>no matches</td>\n",
       "      <td></td>\n",
       "      <td>no matches</td>\n",
       "      <td></td>\n",
       "      <td>no matches</td>\n",
       "      <td></td>\n",
       "      <td>no matches</td>\n",
       "      <td></td>\n",
       "      <td>no matches</td>\n",
       "      <td></td>\n",
       "      <td>no matches</td>\n",
       "      <td></td>\n",
       "    </tr>\n",
       "    <tr>\n",
       "      <th>3</th>\n",
       "      <td>1959</td>\n",
       "      <td>343</td>\n",
       "      <td>4</td>\n",
       "      <td>no matches</td>\n",
       "      <td></td>\n",
       "      <td>no matches</td>\n",
       "      <td></td>\n",
       "      <td>no matches</td>\n",
       "      <td></td>\n",
       "      <td>no matches</td>\n",
       "      <td></td>\n",
       "      <td>no matches</td>\n",
       "      <td></td>\n",
       "      <td>no matches</td>\n",
       "      <td></td>\n",
       "    </tr>\n",
       "    <tr>\n",
       "      <th>4</th>\n",
       "      <td>2</td>\n",
       "      <td>S1</td>\n",
       "      <td>1</td>\n",
       "      <td>no matches</td>\n",
       "      <td></td>\n",
       "      <td>no matches</td>\n",
       "      <td></td>\n",
       "      <td>no matches</td>\n",
       "      <td></td>\n",
       "      <td>no matches</td>\n",
       "      <td></td>\n",
       "      <td>no matches</td>\n",
       "      <td></td>\n",
       "      <td>no matches</td>\n",
       "      <td></td>\n",
       "    </tr>\n",
       "  </tbody>\n",
       "</table>\n",
       "</div>"
      ],
      "text/plain": [
       "   cluster index CF_componentindex  CF_NrNodes  CF_kingdom CF_kingdom_score  \\\n",
       "0              1               343           4  no matches                    \n",
       "1              3               343           4  no matches                    \n",
       "2             20               343           4  no matches                    \n",
       "3           1959               343           4  no matches                    \n",
       "4              2                S1           1  no matches                    \n",
       "\n",
       "  CF_superclass CF_superclass_score    CF_class CF_class_score CF_subclass  \\\n",
       "0    no matches                      no matches                 no matches   \n",
       "1    no matches                      no matches                 no matches   \n",
       "2    no matches                      no matches                 no matches   \n",
       "3    no matches                      no matches                 no matches   \n",
       "4    no matches                      no matches                 no matches   \n",
       "\n",
       "  CF_subclass_score  CF_Dparent CF_Dparent_score CF_MFramework  \\\n",
       "0                    no matches                     no matches   \n",
       "1                    no matches                     no matches   \n",
       "2                    no matches                     no matches   \n",
       "3                    no matches                     no matches   \n",
       "4                    no matches                     no matches   \n",
       "\n",
       "  CF_MFramework_score  \n",
       "0                      \n",
       "1                      \n",
       "2                      \n",
       "3                      \n",
       "4                      "
      ]
     },
     "execution_count": 22,
     "metadata": {},
     "output_type": "execute_result"
    }
   ],
   "source": [
    "final.head()"
   ]
  },
  {
   "cell_type": "markdown",
   "metadata": {},
   "source": [
    "write ClassyFire results per molecular family to file. To visualize chemical classes within the mass spectral molecular network, this file can be imported as table into Cytoscape."
   ]
  },
  {
   "cell_type": "code",
   "execution_count": 13,
   "metadata": {},
   "outputs": [],
   "source": [
    "final.to_csv(\"ClassyFireResults_Network_FeatureBased.txt\", sep = '\\t', index = False)"
   ]
  },
  {
   "cell_type": "markdown",
   "metadata": {},
   "source": [
    "how many InChIKeys could not be classified? (percentage of total submitted InChIKeys)"
   ]
  },
  {
   "cell_type": "code",
   "execution_count": 14,
   "metadata": {},
   "outputs": [
    {
     "data": {
      "text/plain": [
       "0.652014652014652"
      ]
     },
     "execution_count": 14,
     "metadata": {},
     "output_type": "execute_result"
    }
   ],
   "source": [
    "len(set(list(ikeys.InChIKey)) - set(list(df.inchikey)))/len(set(list(ikeys.InChIKey)))"
   ]
  },
  {
   "cell_type": "markdown",
   "metadata": {},
   "source": [
    "which InChIKeys could not be classified?"
   ]
  },
  {
   "cell_type": "code",
   "execution_count": 15,
   "metadata": {},
   "outputs": [
    {
     "data": {
      "text/plain": [
       "{'InChIKey=AAUZLHJDJNJJDM-YYNGXESYSA-N',\n",
       " 'InChIKey=ABMLTSFSLUQUFY-XUAJAPSHSA-N',\n",
       " 'InChIKey=AFGUVBVUFZMJMX-UHFFFAOYSA-N',\n",
       " 'InChIKey=APKQIGMSWOACOS-MSUUIHNZSA-N',\n",
       " 'InChIKey=AURCBSWGPREGRQ-AQNFZCBMSA-M',\n",
       " 'InChIKey=AUWWRCVWPCJXBI-GJZGRUSLSA-O',\n",
       " 'InChIKey=AYQMHVMNRNJETE-FIXSFTCYSA-N',\n",
       " 'InChIKey=BCHQLIFQFCPGHF-QGZVFWFLSA-M',\n",
       " 'InChIKey=BEKLYIAFACFFDO-UPBMBJRSSA-N',\n",
       " 'InChIKey=BEVFYPNHCDGTJQ-UHFFFAOYSA-N',\n",
       " 'InChIKey=BFQWBQIYMSVPOL-HEUYONADSA-N',\n",
       " 'InChIKey=BLSNFMIGHPIPFW-ZUQMNNKGSA-N',\n",
       " 'InChIKey=BQGLBJMHEQGMIA-UHFFFAOYSA-N',\n",
       " 'InChIKey=BQHCMGWMRJLGIG-QSQNZYKQSA-P',\n",
       " 'InChIKey=BROOAJNAIWOCEO-JGCGQSQUSA-N',\n",
       " 'InChIKey=BURLCNUJBHPOOO-RUWUMMDESA-N',\n",
       " 'InChIKey=BXFOFFBJRFZBQZ-UHFFFAOYSA-N',\n",
       " 'InChIKey=CCOVPWPRULOZOO-PLACYDAFSA-N',\n",
       " 'InChIKey=CGEPVABIQUNBOM-TYNPDJOYSA-N',\n",
       " 'InChIKey=CHHZYSAKMRQNTM-FUHWJXTLSA-O',\n",
       " 'InChIKey=CIOUQKGNHMSZRR-UKZDDFKXSA-N',\n",
       " 'InChIKey=CJQYOTZFGCMSNR-VCZQVZGSSA-N',\n",
       " 'InChIKey=CRXKETATQYMLCU-BQAXFXPJSA-Q',\n",
       " 'InChIKey=CSIFRWRBOOQRBP-UZJFSXEZSA-N',\n",
       " 'InChIKey=DESNVFJPSFPUNJ-WYUHBREQSA-N',\n",
       " 'InChIKey=DFJAXEWDHVOILU-OMRPVRGDSA-N',\n",
       " 'InChIKey=DJLWHSVLAQHNTB-KTQVKEDJSA-N',\n",
       " 'InChIKey=DMAQLTLNFFADJT-BFSKCCPLSA-N',\n",
       " 'InChIKey=DTZHHGIOBLSKDR-PHZDYDNGSA-N',\n",
       " 'InChIKey=DUUKZBGYNMHUHO-UHFFFAOYSA-N',\n",
       " 'InChIKey=DVWSXZIHSUZZKJ-BQOJMOTRSA-N',\n",
       " 'InChIKey=DYKFVFQROZKSSN-VZUYHUTRSA-N',\n",
       " 'InChIKey=FCDQXMONLNNSBI-FYYLOGMGSA-N',\n",
       " 'InChIKey=FKSFKBQGSFSOSM-QFIPXVFZSA-N',\n",
       " 'InChIKey=FZCFGTYBICWLSQ-UUXXHUGVSA-N',\n",
       " 'InChIKey=GCSUJEGOLAPNMD-MDZDMXLPSA-N',\n",
       " 'InChIKey=GFWRVVCDTLRWPK-UHFFFAOYSA-N',\n",
       " 'InChIKey=GHNFMHOEKFLHDS-JLNKQSITSA-M',\n",
       " 'InChIKey=GOYLWILZRUOCQE-FUZZWQSMSA-N',\n",
       " 'InChIKey=GPUYRRXFLIKAQP-IIFZCLPQSA-N',\n",
       " 'InChIKey=GRLOTNLKPYVDST-PJKYEGSWSA-N',\n",
       " 'InChIKey=GUMGJXGNMICTIG-OXYPMYLPSA-N',\n",
       " 'InChIKey=GUZJOYUPXPLIPY-HTFUOVQASA-N',\n",
       " 'InChIKey=GVOUGKVDENLIJG-HQHGWSDISA-N',\n",
       " 'InChIKey=GXWUEMSASMVWKO-OJJSKKDYSA-N',\n",
       " 'InChIKey=GZDPKZCGLLNMKC-DPLHUUCSSA-N',\n",
       " 'InChIKey=GZQIINDHMUJEAM-UHFFFAOYSA-N',\n",
       " 'InChIKey=HETOFZZBPNGKIE-XVIFHYLQSA-N',\n",
       " 'InChIKey=HOMYIYLRRDTKAA-UYIJODJPSA-N',\n",
       " 'InChIKey=HRMXETZEKQCWBC-UXBLZVDNSA-N',\n",
       " 'InChIKey=HUTKGPOSEJZYFJ-LFNFIXQYSA-N',\n",
       " 'InChIKey=IKPSPULRKWIQRY-JFJVCENTSA-N',\n",
       " 'InChIKey=IMFJJUNWTSZUJV-KGFWQLJJSA-P',\n",
       " 'InChIKey=INNGXXRVGHCNRI-NMAPUUFXSA-N',\n",
       " 'InChIKey=IUPCWCLVECYZRV-JZMZINANSA-N',\n",
       " 'InChIKey=IXLSMZJFEGWTTO-YMXDWUKFSA-P',\n",
       " 'InChIKey=IYBDNFPKSHNBTP-QUXJJBPGSA-P',\n",
       " 'InChIKey=IYLRRIUNGGQRTN-FHKHNKIZSA-O',\n",
       " 'InChIKey=JAUOPQCPGKZBOF-CLWRXYFZSA-N',\n",
       " 'InChIKey=JDTGOJPKNZTILK-YGJJBUPOSA-N',\n",
       " 'InChIKey=JEMJHGRVHLIJQH-NRZXCNHYSA-N',\n",
       " 'InChIKey=JFRNHERHOQQIEM-TXZJXHMUSA-N',\n",
       " 'InChIKey=JHCXJIRLSJUGJL-GAOAULHNSA-N',\n",
       " 'InChIKey=JOCULGMWCPVQGI-CRSJRTBWSA-N',\n",
       " 'InChIKey=JTTPSRQRBBOCDL-FIXSFTCYSA-N',\n",
       " 'InChIKey=JXPPBJBLHLZLIG-CFBUGHEJSA-O',\n",
       " 'InChIKey=KBDLPCRPXREHSX-CCVDTEMHSA-N',\n",
       " 'InChIKey=KCPFGCOVIHILBY-FXXSFSAZSA-N',\n",
       " 'InChIKey=KDEVGAOFWJJIHX-ZNNUZYLRSA-N',\n",
       " 'InChIKey=KMJHEZXUWFRTFS-BHMJXSNSSA-N',\n",
       " 'InChIKey=KRLKPTMEUFJHKD-UHFFFAOYSA-N',\n",
       " 'InChIKey=KRWQHGRXPQWINO-GSNUFDMHSA-N',\n",
       " 'InChIKey=KXLSJQTXSAYFDL-UHFFFAOYSA-N',\n",
       " 'InChIKey=LGXPIRFANNDNBV-CTHNAPQRSA-N',\n",
       " 'InChIKey=LKSJZCZJUXHKFW-CYEXUTLASA-P',\n",
       " 'InChIKey=LOKIZXMMTFRUNU-HCNIIHBUSA-N',\n",
       " 'InChIKey=LTLKHSBYMNKWPF-KANLMKGOSA-N',\n",
       " 'InChIKey=MASRYVQKFOORHS-YPENRWOSSA-N',\n",
       " 'InChIKey=MAXXBZKHXTUIQE-PGUUNBNQSA-N',\n",
       " 'InChIKey=MKOKWBRPIBQYJJ-QOTIJYPWSA-N',\n",
       " 'InChIKey=MMBILEWCGWTAOV-UHFFFAOYSA-N',\n",
       " 'InChIKey=MMYRDQLKHIDOMP-CLONMANBSA-N',\n",
       " 'InChIKey=MNEXZSKMWHPEMB-LEPHYPIHSA-O',\n",
       " 'InChIKey=MOSVBDAIGOGSPE-CAFXQFFASA-N',\n",
       " 'InChIKey=MRYSHIGWBTYBNS-QEKORCQSSA-N',\n",
       " 'InChIKey=MVHKLUNQRGAKNA-RMNVFCLJSA-N',\n",
       " 'InChIKey=MWHJKNPZGLUWTI-HVIPQOSHSA-P',\n",
       " 'InChIKey=MZYZVYBSCOUPPO-UIQJENHCSA-N',\n",
       " 'InChIKey=NALXHMIWEUPQCH-POMLREGLSA-N',\n",
       " 'InChIKey=NCKZGICWWDVGEJ-VNAOBRGMSA-N',\n",
       " 'InChIKey=NPETZHSJMVTIAM-OFNDTPRFSA-N',\n",
       " 'InChIKey=NYIRBEWLHVXNKD-SJBKTWHCSA-N',\n",
       " 'InChIKey=OBCMTGWLFRNQNW-ZMWMQSOXSA-N',\n",
       " 'InChIKey=ODFVSDJLTCHLCV-XGCWNURASA-N',\n",
       " 'InChIKey=OFGVKNDKUVZZDD-XIUQIUOVSA-N',\n",
       " 'InChIKey=OJGQVUNCDWSLLG-FTFRXCRBSA-N',\n",
       " 'InChIKey=ONYDSNDEHCYDBQ-NXPSXSHZSA-P',\n",
       " 'InChIKey=ORVHJQXVUAOELM-JNVQHIPESA-N',\n",
       " 'InChIKey=OWJBOTNJAKRILN-YYEQQZDASA-N',\n",
       " 'InChIKey=PATADSNGNXIWLE-AUPYISFQSA-N',\n",
       " 'InChIKey=PFMLPROLKLIUHJ-ZDUSSCGKSA-P',\n",
       " 'InChIKey=PFMWLSLCVYOPSJ-SGUCCDCUSA-N',\n",
       " 'InChIKey=PFSAGEUWPWJOBK-QENZFRSWSA-N',\n",
       " 'InChIKey=PGUFYFFTFKQUSX-ACEXITHZSA-N',\n",
       " 'InChIKey=PODMJVMUYCFFMK-UHFFFAOYSA-N',\n",
       " 'InChIKey=QBHGZBBHPKBYKG-ZDIBONPUSA-N',\n",
       " 'InChIKey=QEHHKGMHPPPFAW-GFCCVEGCSA-N',\n",
       " 'InChIKey=QETZYFKPMZHAFT-RRTAPNBZSA-N',\n",
       " 'InChIKey=QFJIBJJUERMNCQ-NCXUSEDFSA-N',\n",
       " 'InChIKey=QJKUOZKZLNWBHX-GOSISDBHSA-N',\n",
       " 'InChIKey=QMKURYHUAZUOJP-HBESXGBFSA-N',\n",
       " 'InChIKey=QQTMAILUUKBEBP-OKLWLNEQSA-N',\n",
       " 'InChIKey=QXHICULSTMOREA-QYWOHJEZSA-N',\n",
       " 'InChIKey=RAJWFJLYEVWRML-UGOYFBGJSA-N',\n",
       " 'InChIKey=RAXVMQSGYOTCDT-DJPCPANOSA-N',\n",
       " 'InChIKey=REOBRTYMNNYVNT-NZCJRGAMSA-N',\n",
       " 'InChIKey=RFZFPTSDEPYSRK-DGIFUFQNSA-N',\n",
       " 'InChIKey=RNVUITUIMXARAQ-UTINFBMNSA-N',\n",
       " 'InChIKey=RRSUPHIYOPGIKP-VSJXLRDISA-N',\n",
       " 'InChIKey=RSZBUEJNZROMOJ-XMSQKQJNSA-O',\n",
       " 'InChIKey=RXTUJYSFMGFCIM-MURKFCDVSA-N',\n",
       " 'InChIKey=SATGKQGFUDXGAX-KFNQEEOWSA-N',\n",
       " 'InChIKey=SDFSRLRVBFJUAZ-QAOKCREBSA-N',\n",
       " 'InChIKey=SEHYZBRPWQNYQW-JOCHJYFZSA-N',\n",
       " 'InChIKey=SMEGXRGRDNJMDW-CQSZACIVSA-N',\n",
       " 'InChIKey=SOINBWUVDKDCCA-MUMRKEEXSA-N',\n",
       " 'InChIKey=SSEBTPPFLLCUMN-UHFFFAOYSA-N',\n",
       " 'InChIKey=SYULHXPAOLMHEO-MPGRLDIZSA-N',\n",
       " 'InChIKey=UAJUXJSXCLUTNU-UHFFFAOYSA-N',\n",
       " 'InChIKey=UANIKJWRSQDMPC-UHFFFAOYSA-O',\n",
       " 'InChIKey=UBLYRLFKCZLFNA-FIXSFTCYSA-N',\n",
       " 'InChIKey=ULUBTSXVFBWWEF-RRHRGVEJSA-N',\n",
       " 'InChIKey=UOJDQXZVAPFQKD-AOIWGVFYSA-N',\n",
       " 'InChIKey=URXZXNYJPAJJOQ-FPLPWBNLSA-N',\n",
       " 'InChIKey=VBICKXHEKHSIBG-FQEVSTJZSA-N',\n",
       " 'InChIKey=VEZLACMLKJYHDT-UMSFTDKQSA-N',\n",
       " 'InChIKey=VFBQBALYJXPYLA-XXBNENTESA-O',\n",
       " 'InChIKey=VHACFTUFOBCYNP-UNYIBMBOSA-N',\n",
       " 'InChIKey=VHXRBFDBXXELMF-VAGHUZBNSA-M',\n",
       " 'InChIKey=VMBKWMXOXXGBLN-UHFFFAOYSA-N',\n",
       " 'InChIKey=VQMWDPXOYFYYKP-YPVLXUMRSA-N',\n",
       " 'InChIKey=VUSNBQDZGKZEDL-UHFFFAOYSA-N',\n",
       " 'InChIKey=VVJDHJZQBGWPEQ-QQWJFROZSA-N',\n",
       " 'InChIKey=VVLXDWXSVVPSJV-RAUKKLSQSA-N',\n",
       " 'InChIKey=VXOVWFJOWNESCS-PGYXGQNHSA-N',\n",
       " 'InChIKey=WEAVAQJCYFMSGG-BSPZTQNZSA-N',\n",
       " 'InChIKey=WOYQNYWDHIPWIB-FAIXQHPJSA-N',\n",
       " 'InChIKey=WOZLPPGKSWZLBI-UDCVRRCWSA-N',\n",
       " 'InChIKey=WZISBLRBOQCBRZ-ZFGSYAMDSA-N',\n",
       " 'InChIKey=XAFYBKNNHLDYKS-UHFFFAOYSA-N',\n",
       " 'InChIKey=XFYZFLQEDVSXFI-NSHGMRRFSA-O',\n",
       " 'InChIKey=XIPHEVSTVZMQGN-XMMPIXPASA-O',\n",
       " 'InChIKey=XLMRDMYDIQIEOT-NFAODLEKSA-N',\n",
       " 'InChIKey=XODZJXAEIMMSOE-QUCCMNQESA-O',\n",
       " 'InChIKey=XTMIRDMHYWMSKN-OALUTQOASA-M',\n",
       " 'InChIKey=XVAVSJKCRKLYNX-PKTZIBPZSA-O',\n",
       " 'InChIKey=XWJTYEGVQBFZHI-IMPNNSMHSA-N',\n",
       " 'InChIKey=XXCWMSGFKDMADX-JJPMLRRDSA-N',\n",
       " 'InChIKey=XYBGQZFCCDRWSR-ICFOKQHNSA-N',\n",
       " 'InChIKey=YCBFPRSZKYUJNI-DPZMMSJYSA-N',\n",
       " 'InChIKey=YFNPVWRSYRXVRN-RAEVXBBGSA-O',\n",
       " 'InChIKey=YHSSHPWVFALMBA-UCKGYWORSA-O',\n",
       " 'InChIKey=YMEOKCQRDKKTBN-GLEIUHPXSA-N',\n",
       " 'InChIKey=YOYSYILHJAYGQE-QSCHNALKSA-N',\n",
       " 'InChIKey=YQEYOYLPOAGOMK-NUHOQHIVSA-N',\n",
       " 'InChIKey=YXPMCBGFLULSGQ-DKLGSEFWSA-N',\n",
       " 'InChIKey=YYELLDKEOUKVIQ-UHFFFAOYSA-N',\n",
       " 'InChIKey=YYLJYKUALXBFTH-VEDSZINTSA-N',\n",
       " 'InChIKey=YYLMDSJRCIURAD-YAQNPAFLSA-N',\n",
       " 'InChIKey=YZRKUTTYVWZOQF-RKONGDRVSA-M',\n",
       " 'InChIKey=ZBNRZRMJRWWLRA-MSKDJTTPSA-N',\n",
       " 'InChIKey=ZCGCIFQLSROBQB-GMICQEHHSA-N',\n",
       " 'InChIKey=ZDASUJMDVPTNTF-UHFFFAOYSA-N',\n",
       " 'InChIKey=ZLQJSQHBPRDGHQ-KDLNVPEYSA-N',\n",
       " 'InChIKey=ZQYBDDWUEWCXIM-KNOWPERHSA-N',\n",
       " 'InChIKey=ZRALEAANSAKXPV-OPVNKNAKSA-N',\n",
       " 'InChIKey=ZRXISZZQHKYPQA-UHFFFAOYSA-N',\n",
       " 'InChIKey=ZVUHWOSJRCZGGC-KLJQYYAKSA-N'}"
      ]
     },
     "execution_count": 15,
     "metadata": {},
     "output_type": "execute_result"
    }
   ],
   "source": [
    "set(list(ikeys.InChIKey)) - set(list(df.inchikey))"
   ]
  },
  {
   "cell_type": "markdown",
   "metadata": {},
   "source": [
    "create graphML file"
   ]
  },
  {
   "cell_type": "code",
   "execution_count": 18,
   "metadata": {},
   "outputs": [],
   "source": [
    "if any(\"FEATURE\" in s for s in os.listdir('GNPS_output_graphML_FeatureBased/')):\n",
    "    graphMLfile = 'GNPS_output_graphML_FeatureBased/' + [x for x in os.listdir('GNPS_output_graphML_FeatureBased/') if 'FEATURE' in x][0]\n",
    "    graphML = read_graphml(graphMLfile)\n",
    "    graphML_classy = make_classyfire_graphml(graphML,final)\n",
    "    nx.write_graphml(graphML_classy, \"ClassyFireResults_Network_FeatureBased.graphml\", infer_numeric_types = True)\n",
    "elif any(\"METABOLOMICS\" in s for s in os.listdir('GNPS_output_graphML_FeatureBased/')):\n",
    "    graphMLfile = 'GNPS_output_graphML_FeatureBased/' + [x for x in os.listdir('GNPS_output_graphML_FeatureBased/') if 'METABOLOMICS' in x][0]\n",
    "    graphML = read_graphml(graphMLfile)\n",
    "    graphML_classy = make_classyfire_graphml(graphML,final)\n",
    "    nx.write_graphml(graphML_classy, \"ClassyFireResults_Network_FeatureBased.graphml\", infer_numeric_types = True)\n",
    "else:\n",
    "    print('There is no graphML file for this GNPS molecular network job')"
   ]
  },
  {
   "cell_type": "code",
   "execution_count": null,
   "metadata": {},
   "outputs": [],
   "source": []
  }
 ],
 "metadata": {
  "kernelspec": {
   "display_name": "Python 3",
   "language": "python",
   "name": "python3"
  },
  "language_info": {
   "codemirror_mode": {
    "name": "ipython",
    "version": 3
   },
   "file_extension": ".py",
   "mimetype": "text/x-python",
   "name": "python",
   "nbconvert_exporter": "python",
   "pygments_lexer": "ipython3",
   "version": "3.7.3"
  }
 },
 "nbformat": 4,
 "nbformat_minor": 2
}
