{
 "cells": [
  {
   "cell_type": "markdown",
   "metadata": {},
   "source": [
    "Download GNPS data <br>\n",
    "Replace Job ID below with your GNPS job ID:"
   ]
  },
  {
   "cell_type": "code",
   "execution_count": 1,
   "metadata": {},
   "outputs": [
    {
     "name": "stderr",
     "output_type": "stream",
     "text": [
      "  % Total    % Received % Xferd  Average Speed   Time    Time     Time  Current\n",
      "                                 Dload  Upload   Total   Spent    Left  Speed\n",
      "\n",
      "  0     0    0     0    0     0      0      0 --:--:-- --:--:-- --:--:--     0\n",
      "100  437k    0  437k    0     0   437k      0 --:--:-- --:--:-- --:--:--  999k\n"
     ]
    }
   ],
   "source": [
    "! curl -d \"\" \"https://gnps.ucsd.edu/ProteoSAFe/DownloadResult?task=b76dd5a123e54a7eb42765499f9163a5&view=download_cytoscape_data\" -o GNPS_output_graphML_Classical.zip\n",
    "\n",
    "from zipfile import ZipFile\n",
    "zf = ZipFile(\"GNPS_output_graphML_Classical.zip\", 'r')\n",
    "zf.extractall(\"GNPS_output_graphML_Classical\")\n",
    "zf.close()"
   ]
  },
  {
   "cell_type": "code",
   "execution_count": 2,
   "metadata": {},
   "outputs": [
    {
     "name": "stderr",
     "output_type": "stream",
     "text": [
      "  % Total    % Received % Xferd  Average Speed   Time    Time     Time  Current\n",
      "                                 Dload  Upload   Total   Spent    Left  Speed\n",
      "\n",
      "  0     0    0     0    0     0      0      0 --:--:-- --:--:-- --:--:--     0\n",
      "  0     0    0     0    0     0      0      0 --:--:-- --:--:-- --:--:--     0\n",
      "100 30644    0 30644    0     0  30644      0 --:--:-- --:--:-- --:--:--  127k\n"
     ]
    }
   ],
   "source": [
    "! curl -d \"\" \"https://gnps.ucsd.edu/ProteoSAFe/DownloadResult?task=4d971b8162644e869a68faa35f01b915&view=view_significant\" -o Varquest_output.zip\n",
    "\n",
    "from zipfile import ZipFile\n",
    "zf = ZipFile(\"Varquest_output.zip\", 'r')\n",
    "zf.extractall(\"Varquest_output\")\n",
    "zf.close()"
   ]
  },
  {
   "cell_type": "markdown",
   "metadata": {},
   "source": [
    "Download <i>in silico</i> structural annotation (Dereplicator, Varquest) data <br>\n",
    "Replace Job IDs below with your Dereplicator or Varquest job IDs:"
   ]
  },
  {
   "cell_type": "code",
   "execution_count": 3,
   "metadata": {},
   "outputs": [
    {
     "name": "stderr",
     "output_type": "stream",
     "text": [
      "  % Total    % Received % Xferd  Average Speed   Time    Time     Time  Current\n",
      "                                 Dload  Upload   Total   Spent    Left  Speed\n",
      "\n",
      "  0     0    0     0    0     0      0      0 --:--:-- --:--:-- --:--:--     0\n",
      "100  1348  100  1348    0     0   1348      0  0:00:01 --:--:--  0:00:01  8585\n"
     ]
    }
   ],
   "source": [
    "! curl -d \"\" \"https://gnps.ucsd.edu/ProteoSAFe/DownloadResult?task=c62d3283752f4f98b1720d0a6d1ee65b&view=view_significant\" -o Derep_output.zip\n",
    "\n",
    "from zipfile import ZipFile\n",
    "zf = ZipFile(\"Derep_output.zip\", 'r')\n",
    "zf.extractall(\"Derep_output\")\n",
    "zf.close()"
   ]
  },
  {
   "cell_type": "markdown",
   "metadata": {},
   "source": [
    "specify your NAP job ID:"
   ]
  },
  {
   "cell_type": "code",
   "execution_count": 1,
   "metadata": {},
   "outputs": [],
   "source": [
    "nap_id = 'cb63770fe307410492468f62f9edb8f3'"
   ]
  },
  {
   "cell_type": "markdown",
   "metadata": {},
   "source": [
    "load libraries"
   ]
  },
  {
   "cell_type": "code",
   "execution_count": 2,
   "metadata": {},
   "outputs": [],
   "source": [
    "from pyMolNetEnhancer import *\n",
    "import pandas as pd\n",
    "import os\n",
    "import csv \n",
    "import json\n",
    "from networkx import *\n",
    "from pathlib import Path  #path to MarvinSuite's molconvert used to convert SMILES to InchiKeys\n",
    "pathMolCov = Path('C:/Program Files/ChemAxon/MarvinSuite/bin')\n",
    "pathJAVA = Path('C:/Program Files/Java/jre1.8.0_211')\n",
    "os.environ['PATH'] = str(pathMolCov)\n",
    "os.environ['JAVA_HOME'] = str(pathJAVA)"
   ]
  },
  {
   "cell_type": "code",
   "execution_count": 7,
   "metadata": {},
   "outputs": [],
   "source": [
    "if 'clusterinfo_summary' in os.listdir('GNPS_output_graphML_Classical/') and 'DB_result' in os.listdir('GNPS_output_graphML_Classical/'):\n",
    "    netfile = 'GNPS_output_graphML_Classical/clusterinfo_summary/' + str(os.listdir('GNPS_output_graphML_Classical/clusterinfo_summary/')[0]) \n",
    "    gnpslibfile = 'GNPS_output_graphML_Classical/DB_result/'+ str(os.listdir('GNPS_output_graphML_Classical/DB_result/')[0]) \n",
    "elif 'clusterinfosummarygroup_attributes_withIDs_withcomponentID' in os.listdir('GNPS_output_graphML_Classical/'):\n",
    "    netfile = 'GNPS_output_graphML_Classical/clusterinfosummarygroup_attributes_withIDs_withcomponentID/' + str(os.listdir('GNPS_output_graphML_Classical/clusterinfosummarygroup_attributes_withIDs_withcomponentID/')[0])\n",
    "    gnpslibfile = 'GNPS_output_graphML_Classical/result_specnets_DB/'+ str(os.listdir('GNPS_output_graphML_Classical/result_specnets_DB/')[0])\n",
    "else:\n",
    "    netfile = 'GNPS_output_graphML_Classical/clusterinfosummary/' + str(os.listdir('GNPS_output_graphML_Classical/clusterinfosummary/')[0])\n",
    "    gnpslibfile = 'GNPS_output_graphML_Classical/result_specnets_DB/'+ str(os.listdir('GNPS_output_graphML_Classical/result_specnets_DB/')[0]) "
   ]
  },
  {
   "cell_type": "code",
   "execution_count": 8,
   "metadata": {},
   "outputs": [],
   "source": [
    "nap = pd.read_csv(\"http://proteomics2.ucsd.edu/ProteoSAFe/DownloadResultFile?task=\"+nap_id+\"&block=main&file=final_out/node_attributes_table.tsv\", sep = \"\\t\")\n",
    "gnpslib = pd.read_csv(gnpslibfile, sep='\\t')\n",
    "derep = pd.read_csv('Derep_output/'+[s for s in os.listdir('Derep_output') if \"DEREPLICATOR\" in s][0], sep = '\\t')\n",
    "varquest = pd.read_csv('Varquest_output/'+[s for s in os.listdir('Varquest_output') if \"DEREPLICATOR\" in s][0], sep = '\\t')"
   ]
  },
  {
   "cell_type": "markdown",
   "metadata": {},
   "source": [
    "add all chemical structural information output as dataframe items in list"
   ]
  },
  {
   "cell_type": "code",
   "execution_count": 9,
   "metadata": {},
   "outputs": [],
   "source": [
    "matches = [gnpslib, nap, derep, varquest]"
   ]
  },
  {
   "cell_type": "code",
   "execution_count": 10,
   "metadata": {},
   "outputs": [],
   "source": [
    "out = unique_smiles(matches)"
   ]
  },
  {
   "cell_type": "code",
   "execution_count": 11,
   "metadata": {},
   "outputs": [],
   "source": [
    "out['df'].to_csv(\"SMILES.csv\", quoting=csv.QUOTE_NONE, escapechar='&')"
   ]
  },
  {
   "cell_type": "markdown",
   "metadata": {},
   "source": [
    "convert SMILES to InchiKeys"
   ]
  },
  {
   "cell_type": "code",
   "execution_count": 12,
   "metadata": {},
   "outputs": [],
   "source": [
    "! molconvert inchikey:SAbs SMILES.csv{csv:strucSMILES} -o InchiKeys_Classical.txt"
   ]
  },
  {
   "cell_type": "code",
   "execution_count": 13,
   "metadata": {},
   "outputs": [],
   "source": [
    "ikeys = pd.read_csv(\"InchiKeys_Classical.txt\",  sep='\\t',header = None)\n",
    "\n",
    "out['df'][\"inchikey\"] = ikeys\n",
    "inchi_dic = make_inchidic(out)\n",
    "\n",
    "ikeys.columns = [\"InChIKey\"]\n",
    "ikeys.to_csv(\"InchiKeys_Classical.txt\", quoting=csv.QUOTE_NONE, escapechar='&')"
   ]
  },
  {
   "cell_type": "markdown",
   "metadata": {},
   "source": [
    "retrieve ClassyFire classifcations"
   ]
  },
  {
   "cell_type": "code",
   "execution_count": 14,
   "metadata": {},
   "outputs": [
    {
     "name": "stdout",
     "output_type": "stream",
     "text": [
      "1000\n",
      "2000\n"
     ]
    }
   ],
   "source": [
    "get_classifications(\"InchiKeys_Classical.txt\")"
   ]
  },
  {
   "cell_type": "code",
   "execution_count": 15,
   "metadata": {},
   "outputs": [],
   "source": [
    "with open(\"all_json.json\") as tweetfile:\n",
    "    jsondic = json.loads(tweetfile.read())\n",
    "\n",
    "\n",
    "df = make_classy_table(jsondic)\n",
    "df = df.rename(columns = {'class':'CF_class','smiles':'SMILES'})\n",
    "net = pd.read_csv(netfile,  sep='\\t')\n",
    "\n",
    "\n",
    "final = molfam_classes(net,df,inchi_dic)"
   ]
  },
  {
   "cell_type": "code",
   "execution_count": 16,
   "metadata": {},
   "outputs": [
    {
     "data": {
      "text/html": [
       "<div>\n",
       "<style scoped>\n",
       "    .dataframe tbody tr th:only-of-type {\n",
       "        vertical-align: middle;\n",
       "    }\n",
       "\n",
       "    .dataframe tbody tr th {\n",
       "        vertical-align: top;\n",
       "    }\n",
       "\n",
       "    .dataframe thead th {\n",
       "        text-align: right;\n",
       "    }\n",
       "</style>\n",
       "<table border=\"1\" class=\"dataframe\">\n",
       "  <thead>\n",
       "    <tr style=\"text-align: right;\">\n",
       "      <th></th>\n",
       "      <th>cluster index</th>\n",
       "      <th>CF_componentindex</th>\n",
       "      <th>CF_NrNodes</th>\n",
       "      <th>CF_kingdom</th>\n",
       "      <th>CF_kingdom_score</th>\n",
       "      <th>CF_superclass</th>\n",
       "      <th>CF_superclass_score</th>\n",
       "      <th>CF_class</th>\n",
       "      <th>CF_class_score</th>\n",
       "      <th>CF_subclass</th>\n",
       "      <th>CF_subclass_score</th>\n",
       "      <th>CF_Dparent</th>\n",
       "      <th>CF_Dparent_score</th>\n",
       "      <th>CF_MFramework</th>\n",
       "      <th>CF_MFramework_score</th>\n",
       "    </tr>\n",
       "  </thead>\n",
       "  <tbody>\n",
       "    <tr>\n",
       "      <th>0</th>\n",
       "      <td>1</td>\n",
       "      <td>S1</td>\n",
       "      <td>1</td>\n",
       "      <td>no matches</td>\n",
       "      <td></td>\n",
       "      <td>no matches</td>\n",
       "      <td></td>\n",
       "      <td>no matches</td>\n",
       "      <td></td>\n",
       "      <td>no matches</td>\n",
       "      <td></td>\n",
       "      <td>no matches</td>\n",
       "      <td></td>\n",
       "      <td>no matches</td>\n",
       "      <td></td>\n",
       "    </tr>\n",
       "    <tr>\n",
       "      <th>1</th>\n",
       "      <td>6</td>\n",
       "      <td>S2</td>\n",
       "      <td>1</td>\n",
       "      <td>no matches</td>\n",
       "      <td></td>\n",
       "      <td>no matches</td>\n",
       "      <td></td>\n",
       "      <td>no matches</td>\n",
       "      <td></td>\n",
       "      <td>no matches</td>\n",
       "      <td></td>\n",
       "      <td>no matches</td>\n",
       "      <td></td>\n",
       "      <td>no matches</td>\n",
       "      <td></td>\n",
       "    </tr>\n",
       "    <tr>\n",
       "      <th>2</th>\n",
       "      <td>19</td>\n",
       "      <td>S3</td>\n",
       "      <td>1</td>\n",
       "      <td>no matches</td>\n",
       "      <td></td>\n",
       "      <td>no matches</td>\n",
       "      <td></td>\n",
       "      <td>no matches</td>\n",
       "      <td></td>\n",
       "      <td>no matches</td>\n",
       "      <td></td>\n",
       "      <td>no matches</td>\n",
       "      <td></td>\n",
       "      <td>no matches</td>\n",
       "      <td></td>\n",
       "    </tr>\n",
       "    <tr>\n",
       "      <th>3</th>\n",
       "      <td>22</td>\n",
       "      <td>S4</td>\n",
       "      <td>1</td>\n",
       "      <td>no matches</td>\n",
       "      <td></td>\n",
       "      <td>no matches</td>\n",
       "      <td></td>\n",
       "      <td>no matches</td>\n",
       "      <td></td>\n",
       "      <td>no matches</td>\n",
       "      <td></td>\n",
       "      <td>no matches</td>\n",
       "      <td></td>\n",
       "      <td>no matches</td>\n",
       "      <td></td>\n",
       "    </tr>\n",
       "    <tr>\n",
       "      <th>4</th>\n",
       "      <td>24</td>\n",
       "      <td>S5</td>\n",
       "      <td>1</td>\n",
       "      <td>no matches</td>\n",
       "      <td></td>\n",
       "      <td>no matches</td>\n",
       "      <td></td>\n",
       "      <td>no matches</td>\n",
       "      <td></td>\n",
       "      <td>no matches</td>\n",
       "      <td></td>\n",
       "      <td>no matches</td>\n",
       "      <td></td>\n",
       "      <td>no matches</td>\n",
       "      <td></td>\n",
       "    </tr>\n",
       "  </tbody>\n",
       "</table>\n",
       "</div>"
      ],
      "text/plain": [
       "   cluster index CF_componentindex  CF_NrNodes  CF_kingdom CF_kingdom_score  \\\n",
       "0              1                S1           1  no matches                    \n",
       "1              6                S2           1  no matches                    \n",
       "2             19                S3           1  no matches                    \n",
       "3             22                S4           1  no matches                    \n",
       "4             24                S5           1  no matches                    \n",
       "\n",
       "  CF_superclass CF_superclass_score    CF_class CF_class_score CF_subclass  \\\n",
       "0    no matches                      no matches                 no matches   \n",
       "1    no matches                      no matches                 no matches   \n",
       "2    no matches                      no matches                 no matches   \n",
       "3    no matches                      no matches                 no matches   \n",
       "4    no matches                      no matches                 no matches   \n",
       "\n",
       "  CF_subclass_score  CF_Dparent CF_Dparent_score CF_MFramework  \\\n",
       "0                    no matches                     no matches   \n",
       "1                    no matches                     no matches   \n",
       "2                    no matches                     no matches   \n",
       "3                    no matches                     no matches   \n",
       "4                    no matches                     no matches   \n",
       "\n",
       "  CF_MFramework_score  \n",
       "0                      \n",
       "1                      \n",
       "2                      \n",
       "3                      \n",
       "4                      "
      ]
     },
     "execution_count": 16,
     "metadata": {},
     "output_type": "execute_result"
    }
   ],
   "source": [
    "final.head()"
   ]
  },
  {
   "cell_type": "markdown",
   "metadata": {},
   "source": [
    "write ClassyFire results per molecular family to file. To visualize chemical classes within the mass spectral molecular network, this file can be imported as table into Cytoscape."
   ]
  },
  {
   "cell_type": "code",
   "execution_count": 17,
   "metadata": {},
   "outputs": [],
   "source": [
    "final.to_csv(\"ClassyFireResults_Network_Classical.txt\", sep = '\\t', index = False)"
   ]
  },
  {
   "cell_type": "markdown",
   "metadata": {},
   "source": [
    "how many InChIKeys could not be classified? (percentage of total submitted InChIKeys)"
   ]
  },
  {
   "cell_type": "code",
   "execution_count": 18,
   "metadata": {},
   "outputs": [
    {
     "data": {
      "text/plain": [
       "0.1187683284457478"
      ]
     },
     "execution_count": 18,
     "metadata": {},
     "output_type": "execute_result"
    }
   ],
   "source": [
    "len(set(list(ikeys.InChIKey)) - set(list(df.inchikey)))/len(set(list(ikeys.InChIKey)))"
   ]
  },
  {
   "cell_type": "markdown",
   "metadata": {},
   "source": [
    "which InChIKeys could not be classified?"
   ]
  },
  {
   "cell_type": "code",
   "execution_count": 19,
   "metadata": {},
   "outputs": [
    {
     "data": {
      "text/plain": [
       "{'InChIKey=AAKNSFWYMCEXOJ-PNDWUXAJSA-N',\n",
       " 'InChIKey=ACFCYNJDAMJVRV-UHFFFAOYSA-N',\n",
       " 'InChIKey=ACQKEKFFNOLIKU-WYEJZRMESA-N',\n",
       " 'InChIKey=ADKNUXINKGBJMY-LDLOPFEMSA-N',\n",
       " 'InChIKey=AFEVCSJFNQWWDF-AZFNEDKCSA-N',\n",
       " 'InChIKey=AJFWREUFUPEYII-PAHWMLEVSA-N',\n",
       " 'InChIKey=AMLDULDQZAJQRJ-OAQYLSRUSA-N',\n",
       " 'InChIKey=AOLCXKLFRNFESX-UHFFFAOYSA-N',\n",
       " 'InChIKey=APTNOIWSCDBIAS-ZDYZHAHESA-M',\n",
       " 'InChIKey=AQJDRNUXSMANGC-LBJQEORVSA-O',\n",
       " 'InChIKey=ARDFLTNFCDYTIN-WXIAYYLYSA-P',\n",
       " 'InChIKey=ATFOTNXZKOORAE-UHFFFAOYSA-N',\n",
       " 'InChIKey=AUUCOMCTAAUNNA-VZUYHUTRSA-N',\n",
       " 'InChIKey=AVKUERGKIZMTKX-NJBDSQKTSA-N',\n",
       " 'InChIKey=BBBLSHGQIQBVJG-GZVVSQBASA-L',\n",
       " 'InChIKey=BCXBIONYYJCSDF-CIUDSAMLSA-N',\n",
       " 'InChIKey=BFTIPPVTTJTHLM-MNXVOIDGSA-N',\n",
       " 'InChIKey=BJDNTBIPIZYXPN-UHFFFAOYSA-N',\n",
       " 'InChIKey=BLXFIBZJVTVAKI-USYZEHPZSA-N',\n",
       " 'InChIKey=BXZPYXMUABUWBT-RRHRGVEJSA-N',\n",
       " 'InChIKey=CBJZKZNOFISZSC-PSXMRANNSA-N',\n",
       " 'InChIKey=CEIZHSCRNFMPMR-GQQHPYRYSA-N',\n",
       " 'InChIKey=COLNVLDHVKWLRT-UHFFFAOYSA-N',\n",
       " 'InChIKey=CQIGOIONTHSZEA-UHFFFAOYSA-N',\n",
       " 'InChIKey=DBFYXFUOCIHCAH-RGULYWFUSA-N',\n",
       " 'InChIKey=DBQMOXDLWKVKKG-WBVITSLISA-N',\n",
       " 'InChIKey=DCUCDCAIOMIBEA-UHFFFAOYSA-O',\n",
       " 'InChIKey=DDJNYLNPKUVZPS-UQMNANQASA-N',\n",
       " 'InChIKey=DGYSZSCXEDPGFY-QNXSJEMLSA-N',\n",
       " 'InChIKey=DHZUMZVZAZYQIW-USYZEHPZSA-N',\n",
       " 'InChIKey=DIHWZUCEXWUHOD-VZUYHUTRSA-N',\n",
       " 'InChIKey=DPEYXLDDNACOGV-HUESYALOSA-N',\n",
       " 'InChIKey=DUTYTDWCZLZYFH-LJUYRKFLSA-N',\n",
       " 'InChIKey=DUYJMQONPNNFPI-UHFFFAOYSA-N',\n",
       " 'InChIKey=DXOJIXGRFSHVKA-UHFFFAOYSA-N',\n",
       " 'InChIKey=DZCMRCRDZVWADN-NXEZZACHSA-N',\n",
       " 'InChIKey=DZPHTQGGRSWHLG-USYZEHPZSA-N',\n",
       " 'InChIKey=DZTOJZFARUIDCT-SFAZREIJSA-N',\n",
       " 'InChIKey=FAYCDOMBDPVXCQ-UHFFFAOYSA-N',\n",
       " 'InChIKey=FBHLXXMDOGRQOQ-GPTRSRDWSA-N',\n",
       " 'InChIKey=FDZFSYSHZRBZEE-SFTDATJTSA-O',\n",
       " 'InChIKey=FGRVZQUFZGRBFK-RBZBVOEWSA-N',\n",
       " 'InChIKey=FHHVIBPVBBRLOR-WBVITSLISA-N',\n",
       " 'InChIKey=FIHAYSQZVJSSFG-JJGVKMCQSA-N',\n",
       " 'InChIKey=FISVEBQJGBZOPW-USYZEHPZSA-N',\n",
       " 'InChIKey=FOCMISOLVPZNSV-BRMDALHSSA-N',\n",
       " 'InChIKey=FTNIORMEYNKANM-VASLLSHASA-O',\n",
       " 'InChIKey=FVQGNFUBHWGFCY-HJOYQDMMSA-N',\n",
       " 'InChIKey=FZLHEKWQJUWDCN-KDCQZWLBSA-O',\n",
       " 'InChIKey=GANPTWKUTLOPRG-ZDTPGCPQSA-N',\n",
       " 'InChIKey=GCWFBJNERWTBLJ-UHFFFAOYSA-N',\n",
       " 'InChIKey=GFZHRLSDXPLDOY-SECBINFHSA-N',\n",
       " 'InChIKey=GKIIOLFEZLYNPT-FLSXHVSPSA-M',\n",
       " 'InChIKey=HEALIQQDEGDSLS-XMMPIXPASA-N',\n",
       " 'InChIKey=HEEMBWYZIJABCR-QJASNXPTSA-N',\n",
       " 'InChIKey=HFMBTDQVAJOYHC-YOKRUPNWSA-N',\n",
       " 'InChIKey=HGWUGDIATLOPBN-BHZQGFRMSA-N',\n",
       " 'InChIKey=HHXPUXMOIAQAIM-QLKFWGTOSA-N',\n",
       " 'InChIKey=HJVOAEKCVMNQEX-QZNUWAOFSA-N',\n",
       " 'InChIKey=HMOQVVSQHRZSGU-CZHOHAKKSA-N',\n",
       " 'InChIKey=HMTCQBSTOUGTHP-ICFOKQHNSA-N',\n",
       " 'InChIKey=HVABDZVINXGTFF-PSEFKOPQSA-N',\n",
       " 'InChIKey=HYYZDUUXSSRJQZ-RBISFNMPSA-N',\n",
       " 'InChIKey=HZHZVSKLIBBQFD-VRGHQRLXSA-N',\n",
       " 'InChIKey=IDLUMGMMMVTISV-WBVITSLISA-N',\n",
       " 'InChIKey=IKWWLIZHWPWWDY-VEZUYBLQSA-N',\n",
       " 'InChIKey=IPQVMJPVAWGSJA-UHFFFAOYSA-N',\n",
       " 'InChIKey=IPZNZTZAKSLSOU-UMQWNRPGSA-N',\n",
       " 'InChIKey=IRLADLDBNAPGGE-GNKBHMEESA-O',\n",
       " 'InChIKey=ISRLNQJUTBEULE-UHFFFAOYSA-N',\n",
       " 'InChIKey=IWLBPHJZJWTKKU-UHFFFAOYSA-N',\n",
       " 'InChIKey=IWQQPQHTVOLVIH-AREMUKBSSA-N',\n",
       " 'InChIKey=IZADACILXDNONH-LOYIFYEOSA-N',\n",
       " 'InChIKey=IZJJAEGPQRDFCN-UHFFFAOYSA-N',\n",
       " 'InChIKey=IZXJVIRIWRYMTO-LEWJYISDSA-N',\n",
       " 'InChIKey=JAVWFBAAZSHHAD-HUESYALOSA-N',\n",
       " 'InChIKey=JBXPWBGBVKIZDN-HBNNFPQZSA-N',\n",
       " 'InChIKey=JEHANYPTFFNAQL-VXKWHMMOSA-N',\n",
       " 'InChIKey=JFIOVJDNOJYLKP-UHFFFAOYSA-N',\n",
       " 'InChIKey=JHDVSIACPXMDBI-WCQYABFASA-N',\n",
       " 'InChIKey=JHVQOIJXNDBUBJ-UHDPQXQQSA-N',\n",
       " 'InChIKey=JJISWJXUIHJHGL-RRHRGVEJSA-N',\n",
       " 'InChIKey=JLGLQAWTXXGVEM-UHFFFAOYSA-N',\n",
       " 'InChIKey=JLKIGFTWXXRPMT-UHFFFAOYSA-N',\n",
       " 'InChIKey=JRDVRIGVIDMJLK-QZNUWAOFSA-N',\n",
       " 'InChIKey=JREOXIRIVLLXMO-UHFFFAOYSA-N',\n",
       " 'InChIKey=JRTZGTYHEHCHTM-DIPNUNPCSA-N',\n",
       " 'InChIKey=JTHBYNOIKKWJHZ-BQGXLUQKSA-N',\n",
       " 'InChIKey=JUCOJCXSYMOEGY-NSOVKSMOSA-P',\n",
       " 'InChIKey=JYUSOHOUJVFOOU-LKYJCGHLSA-N',\n",
       " 'InChIKey=JZZSXGPCSDJPMP-CYOHRYLSSA-N',\n",
       " 'InChIKey=KKCGBTJTPQETOY-KUNNKMQBSA-N',\n",
       " 'InChIKey=KLLGWSLDFNRCLI-WYEJZRMESA-N',\n",
       " 'InChIKey=KQXVERRYBYGQJZ-UHFFFAOYSA-N',\n",
       " 'InChIKey=KXMGXXHZDLJDBH-UHLMFRFDSA-N',\n",
       " 'InChIKey=KZQOMXKLASFQRY-JSOSNVBQSA-N',\n",
       " 'InChIKey=KZSKIDBMTSZKLE-RHZRYSSHSA-N',\n",
       " 'InChIKey=LAGSYIHWUWLKLY-ZENHCJHXSA-N',\n",
       " 'InChIKey=LAXQYRRMGGEGOH-HHHXNRCGSA-N',\n",
       " 'InChIKey=LCJLFGSKHBDOAY-UHFFFAOYSA-N',\n",
       " 'InChIKey=LHHCSNFAOIFYRV-UHFFFAOYSA-N',\n",
       " 'InChIKey=LIAFLGINUNSQGF-GPNYILEOSA-N',\n",
       " 'InChIKey=LKIXPFWTPURWGW-RYOQUFEFSA-N',\n",
       " 'InChIKey=LKSJZCZJUXHKFW-CYEXUTLASA-P',\n",
       " 'InChIKey=LPIRYYBJFSHWMX-IRNSOEFESA-N',\n",
       " 'InChIKey=LPLUMFPBJGLPKS-UHFFFAOYSA-N',\n",
       " 'InChIKey=LQGLSURTFNDIMU-QSCHNALKSA-N',\n",
       " 'InChIKey=LSJLEXWXRKTZAJ-UHFFFAOYSA-N',\n",
       " 'InChIKey=LVPLPQRWJSUPBV-HHWNUHTHSA-N',\n",
       " 'InChIKey=LXUGKKVCSTYZFK-HYNUQJCBSA-N',\n",
       " 'InChIKey=MAWILFLLCURRME-VWNXMTODSA-N',\n",
       " 'InChIKey=MDPSIKGOAZAWEC-UHFFFAOYSA-O',\n",
       " 'InChIKey=MGUXKTPWMQWLJV-GYSDPYPCSA-N',\n",
       " 'InChIKey=MJNWBWABSOIHDD-SGDPUERPSA-N',\n",
       " 'InChIKey=MLTITUYSRRBDDU-UHFFFAOYSA-N',\n",
       " 'InChIKey=MMKZGWQQYXUHEC-VSZNYVQBSA-P',\n",
       " 'InChIKey=MMVSTTKMXIEOJW-MTQKTPQZSA-N',\n",
       " 'InChIKey=MNOGOEJZCHBAEJ-RWYGWLOXSA-N',\n",
       " 'InChIKey=MRBFGEHILMYPTF-UHFFFAOYSA-N',\n",
       " 'InChIKey=MRJDBDRLINRLIW-UHFFFAOYSA-N',\n",
       " 'InChIKey=MVXPRHXMTDDAFA-IBDKLAQTSA-N',\n",
       " 'InChIKey=MWPUYUVXTZFYJY-WSIAEDMWSA-N',\n",
       " 'InChIKey=MYXWLPFBAVVSPF-KXQOOQHDSA-N',\n",
       " 'InChIKey=NBIWOOWOUIOVBE-JTQLQIEISA-N',\n",
       " 'InChIKey=NEGQHKSYEYVFTD-HSZRJFAPSA-N',\n",
       " 'InChIKey=NHDLAVULCNPRAY-RPWUZVMVSA-N',\n",
       " 'InChIKey=NIBQZUNVWYMGNB-ROUUACIJSA-M',\n",
       " 'InChIKey=NJXMLEPFNXRBQS-RNHFSVANSA-N',\n",
       " 'InChIKey=NNLNVKVMYKIRMN-PODYLUTMSA-M',\n",
       " 'InChIKey=NOFOTAHTYLXZNV-PEZBUJJGSA-N',\n",
       " 'InChIKey=NSQZLRCRDQWFOY-UHFFFAOYSA-N',\n",
       " 'InChIKey=NUDVEHBHDBJSMD-UHFFFAOYSA-N',\n",
       " 'InChIKey=NVQSOBYWDGPCAF-LMMNZZMASA-N',\n",
       " 'InChIKey=NYCXYCGYQNIQSJ-UHFFFAOYSA-N',\n",
       " 'InChIKey=OBAAWAYLQLYWNN-RRHRGVEJSA-N',\n",
       " 'InChIKey=OCUONUXNKYDHKY-PZBKSWHFSA-N',\n",
       " 'InChIKey=ODEBYALMHVNZLV-STSQHVNTSA-N',\n",
       " 'InChIKey=OEJYWQCXHNOOHC-ZXEGGCGDSA-N',\n",
       " 'InChIKey=OGGRSJFVXREKOR-CIUDSAMLSA-N',\n",
       " 'InChIKey=OUQDGQSSCQXIJW-AAXFWFPKSA-N',\n",
       " 'InChIKey=OVUSTWLJYDNBQM-LZCXMDQRSA-N',\n",
       " 'InChIKey=PCKXGFCVDCVIHH-USYZEHPZSA-N',\n",
       " 'InChIKey=PIRVOZHXFFFFFG-USYZEHPZSA-N',\n",
       " 'InChIKey=PISLVTVZMHAKFK-AXLYXMLPSA-N',\n",
       " 'InChIKey=PNNRCVLUZNDRRG-SGMTWIHVSA-N',\n",
       " 'InChIKey=PNVLWFYAPWAQMU-CIUDSAMLSA-N',\n",
       " 'InChIKey=PQEYJXRJLFZSPT-USYZEHPZSA-N',\n",
       " 'InChIKey=PQIJYJGVCKCIRT-VZUYHUTRSA-N',\n",
       " 'InChIKey=PRMSLYLZPVMGAX-FKTBYXCWSA-N',\n",
       " 'InChIKey=PSUABDWMNUPXKX-GEGHAFRCSA-N',\n",
       " 'InChIKey=PTORLBABCFQDMJ-QZNUWAOFSA-N',\n",
       " 'InChIKey=PTXDBYSCVQQBNF-UHFFFAOYSA-N',\n",
       " 'InChIKey=PWAHARWXEAMNGK-QZNUWAOFSA-N',\n",
       " 'InChIKey=QAURQPNBPHXAML-UHFFFAOYSA-N',\n",
       " 'InChIKey=QBDIXBUIZWZTDA-QZNUWAOFSA-N',\n",
       " 'InChIKey=QVLMCRFQGHWOPM-UHFFFAOYSA-N',\n",
       " 'InChIKey=RAQLHHNBGLJEAK-UHFFFAOYSA-N',\n",
       " 'InChIKey=RASWCAKLSZMKOI-UHFFFAOYSA-N',\n",
       " 'InChIKey=RFCVXVPWSPOMFJ-STQMWFEESA-N',\n",
       " 'InChIKey=RJWWKQFULAKKGJ-LDLOPFEMSA-N',\n",
       " 'InChIKey=RPBQZTWKXDKPTP-HNNXBMFYSA-O',\n",
       " 'InChIKey=RRWWSMHWDKRGQC-AJLLKUBXSA-N',\n",
       " 'InChIKey=RSLFGGPXMMODGX-UHFFFAOYSA-N',\n",
       " 'InChIKey=RSQGZEAXODVTOL-UHFFFAOYSA-N',\n",
       " 'InChIKey=RUOWFVLRJWBMQI-VFMRGKBXSA-N',\n",
       " 'InChIKey=RWBLWXCGQLZKLK-FHOLMIEWSA-N',\n",
       " 'InChIKey=SBUQBFTXTZSRMH-UHFFFAOYSA-N',\n",
       " 'InChIKey=SCRWQHVIQWWMGD-HNENSFHCSA-N',\n",
       " 'InChIKey=SDRVIXWWJSYRMU-IOLDAXCDSA-N',\n",
       " 'InChIKey=SGHAGIXXWWCYHU-GOSISDBHSA-N',\n",
       " 'InChIKey=SGTJIQOCQLGWBX-FXWKDPFOSA-N',\n",
       " 'InChIKey=SHGIXNQCFPEBAW-USYZEHPZSA-N',\n",
       " 'InChIKey=SIEZSLVXLUPDNY-VVOVZLFDSA-N',\n",
       " 'InChIKey=SIQHLCNVOLQWEX-IEZPRGEGSA-N',\n",
       " 'InChIKey=SKUXUTQFIVWLNQ-QZNUWAOFSA-N',\n",
       " 'InChIKey=SNKAWJBJQDLSFF-UHFFFAOYSA-O',\n",
       " 'InChIKey=SNYPKWYYTPTELC-WZYRSQIMSA-O',\n",
       " 'InChIKey=SOGAGQLSBNMKGG-GSDPCRBASA-N',\n",
       " 'InChIKey=SOSODLPIZNSISY-VZUYHUTRSA-N',\n",
       " 'InChIKey=SPZJLNZSMAPJOH-PBKLRJFSSA-N',\n",
       " 'InChIKey=SXGVPWBSDOQTOM-UHFFFAOYSA-N',\n",
       " 'InChIKey=TZORYCDCGGFZOH-UEEWIDIYSA-N',\n",
       " 'InChIKey=UDOCLKXJVMJFLD-HUESYALOSA-N',\n",
       " 'InChIKey=UDPBCPHMMKEEBT-ORCOCMDLSA-N',\n",
       " 'InChIKey=UJQQGEDCLSFEMD-KTSAPKHVSA-N',\n",
       " 'InChIKey=UNBXAWJAUSOPET-VABKMULXSA-O',\n",
       " 'InChIKey=UNKUVURYGRFCIZ-UHFFFAOYSA-N',\n",
       " 'InChIKey=UPIUFFQPNYDCFX-DGGJZMOXSA-N',\n",
       " 'InChIKey=URPVRQMPLAUDPR-UHFFFAOYSA-N',\n",
       " 'InChIKey=URPXXNCTXCOATD-HUESYALOSA-N',\n",
       " 'InChIKey=UUOZOKXUSTYGEB-KOSKMPHKSA-N',\n",
       " 'InChIKey=VEBRGBNEUMSGAC-PTLFRALASA-N',\n",
       " 'InChIKey=VGQITLMVLATIFB-UHFFFAOYSA-N',\n",
       " 'InChIKey=VJTBJVHQCFQKLQ-XTNHTTTKSA-N',\n",
       " 'InChIKey=VLBHGRFCSTYTLU-NMMYMHLASA-N',\n",
       " 'InChIKey=VMTKGTHHOWQTRO-NSHDSACASA-N',\n",
       " 'InChIKey=VPAHZSUNBOYNQY-UHFFFAOYSA-N',\n",
       " 'InChIKey=VQQXVJQGMUVLEA-NHEYHVDRSA-N',\n",
       " 'InChIKey=VSHKFIDBJONMQJ-AMAPPZPBSA-N',\n",
       " 'InChIKey=VTLYZTRDIRBJDH-BVRVJCKWSA-N',\n",
       " 'InChIKey=VZWIJITWPQYVRN-UHFFFAOYSA-N',\n",
       " 'InChIKey=WAEVEOPNYWHGKG-QBMCOUHOSA-N',\n",
       " 'InChIKey=WAYKKNOEMJFLDI-JOCHJYFZSA-N',\n",
       " 'InChIKey=WBOMIOWRFSPZMC-AREMUKBSSA-N',\n",
       " 'InChIKey=WFNHXDBEYHHWAW-RPKWQDNBSA-N',\n",
       " 'InChIKey=WGCSCXRHTHRBMB-IBGZPJMESA-N',\n",
       " 'InChIKey=WPZCPDFKKPJDKP-HUESYALOSA-N',\n",
       " 'InChIKey=WQZORWGHLUMPIH-WYEJZRMESA-N',\n",
       " 'InChIKey=WSVFRGGLURJIMG-UHFFFAOYSA-N',\n",
       " 'InChIKey=WYELLDIHFVYNAJ-FHLNUDKKSA-N',\n",
       " 'InChIKey=WZLXKZRHVGVNTE-USYZEHPZSA-N',\n",
       " 'InChIKey=XBPVHNZVBFLVIV-NMMYMHLASA-N',\n",
       " 'InChIKey=XBSNZXIKWJJYEL-SLSRMECRSA-N',\n",
       " 'InChIKey=XDPWWEOIDYYUDN-UHFFFAOYSA-N',\n",
       " 'InChIKey=XFBOCAXFYKLVJW-UHFFFAOYSA-N',\n",
       " 'InChIKey=XGSMWRHVBWFFFN-NLOPCVKKSA-N',\n",
       " 'InChIKey=XIXCTNRTCFJCTP-QZNUWAOFSA-N',\n",
       " 'InChIKey=XJISBSFDFOVVHI-USYZEHPZSA-N',\n",
       " 'InChIKey=XJMSRTZSQKJCEJ-QSCHNALKSA-N',\n",
       " 'InChIKey=XSBFRQQHVNCHAL-XQHCBVJASA-O',\n",
       " 'InChIKey=XSJHUVBMPMRRPM-KKBITRJCSA-N',\n",
       " 'InChIKey=XTJPOXSSNPWQEZ-YJJSCDARSA-N',\n",
       " 'InChIKey=XUQUBMWHOCTWHI-QZNUWAOFSA-N',\n",
       " 'InChIKey=YGZYGQXACNZDAJ-KTSAPKHVSA-N',\n",
       " 'InChIKey=YHOOJSBJHQYHSM-PNCVIDCPSA-O',\n",
       " 'InChIKey=YMRSSCMCHFRQOR-ICFOKQHNSA-N',\n",
       " 'InChIKey=YPDGITFWYDXHDP-UHFFFAOYSA-N',\n",
       " 'InChIKey=YUDOHRCAEPBFBO-REVHYHNYSA-N',\n",
       " 'InChIKey=YUJXCNCSPRKCFX-FCJDFRRUSA-N',\n",
       " 'InChIKey=YWDDIWXKFJEMKF-RRHRGVEJSA-N',\n",
       " 'InChIKey=ZCGHVWBUJIOHPL-MHZLTWQESA-O',\n",
       " 'InChIKey=ZFOFWJPEVDYXKK-QWHCGFSZSA-N',\n",
       " 'InChIKey=ZGCNXNXIDVOLGB-QQXKLLMISA-M',\n",
       " 'InChIKey=ZGYXRTOIPQFEPB-RZDMPUFOSA-N',\n",
       " 'InChIKey=ZKRGTOPLLVMXBO-ZRBLBEILSA-O',\n",
       " 'InChIKey=ZLBHNVZLAFHAEP-USYZEHPZSA-N',\n",
       " 'InChIKey=ZPMPMVZOAKWOIA-QJXAMRCTSA-N',\n",
       " 'InChIKey=ZRQPYJXAEPDRDM-HUESYALOSA-N',\n",
       " 'InChIKey=ZSURLOLVFUIWTD-UARWURRSSA-N',\n",
       " 'InChIKey=ZTVNUIIAPLINPK-UHFFFAOYSA-N',\n",
       " 'InChIKey=ZTZQZGHJLWFLFQ-HUESYALOSA-N',\n",
       " 'InChIKey=ZUCKCDUXKGXNBA-AABGKKOBSA-N',\n",
       " 'InChIKey=ZWQJLBMGBLZXCR-UHFFFAOYSA-N'}"
      ]
     },
     "execution_count": 19,
     "metadata": {},
     "output_type": "execute_result"
    }
   ],
   "source": [
    "set(list(ikeys.InChIKey)) - set(list(df.inchikey))"
   ]
  },
  {
   "cell_type": "markdown",
   "metadata": {},
   "source": [
    "create graphML file"
   ]
  },
  {
   "cell_type": "code",
   "execution_count": 20,
   "metadata": {},
   "outputs": [],
   "source": [
    "if any(\"FEATURE\" in s for s in os.listdir('GNPS_output_graphML_Classical/')):\n",
    "    graphMLfile = 'GNPS_output_graphML_Classical/' + [x for x in os.listdir('GNPS_output_graphML_Classical/') if 'FEATURE' in x][0]\n",
    "    graphML = read_graphml(graphMLfile)\n",
    "    graphML_classy = make_classyfire_graphml(graphML,final)\n",
    "    nx.write_graphml(graphML_classy, \"ClassyFireResults_Network.graphml\", infer_numeric_types = True)\n",
    "elif any(\"METABOLOMICS\" in s for s in os.listdir('GNPS_output_graphML_Classical/')):\n",
    "    graphMLfile = 'GNPS_output_graphML_Classical/' + [x for x in os.listdir('GNPS_output_graphML_Classical/') if 'METABOLOMICS' in x][0]\n",
    "    graphML = read_graphml(graphMLfile)\n",
    "    graphML_classy = make_classyfire_graphml(graphML,final)\n",
    "    nx.write_graphml(graphML_classy, \"ClassyFireResults_Network_Classical.graphml\", infer_numeric_types = True)\n",
    "else:\n",
    "    print('There is no graphML file for this GNPS molecular network job')"
   ]
  },
  {
   "cell_type": "code",
   "execution_count": null,
   "metadata": {},
   "outputs": [],
   "source": []
  }
 ],
 "metadata": {
  "kernelspec": {
   "display_name": "Python 3",
   "language": "python",
   "name": "python3"
  },
  "language_info": {
   "codemirror_mode": {
    "name": "ipython",
    "version": 3
   },
   "file_extension": ".py",
   "mimetype": "text/x-python",
   "name": "python",
   "nbconvert_exporter": "python",
   "pygments_lexer": "ipython3",
   "version": "3.7.3"
  }
 },
 "nbformat": 4,
 "nbformat_minor": 2
}
